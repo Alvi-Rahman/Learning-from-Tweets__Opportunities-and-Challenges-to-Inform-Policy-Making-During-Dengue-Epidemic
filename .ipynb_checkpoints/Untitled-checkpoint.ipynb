{
 "cells": [
  {
   "cell_type": "code",
   "execution_count": 1,
   "metadata": {},
   "outputs": [],
   "source": [
    "import numpy as np\n",
    "import pandas as pd"
   ]
  },
  {
   "cell_type": "code",
   "execution_count": 2,
   "metadata": {},
   "outputs": [],
   "source": [
    "news = pd.read_excel('TwitterUserDesc.xlsx',sheet_name='Sheet1')"
   ]
  },
  {
   "cell_type": "code",
   "execution_count": 3,
   "metadata": {},
   "outputs": [
    {
     "data": {
      "text/html": [
       "<div>\n",
       "<style scoped>\n",
       "    .dataframe tbody tr th:only-of-type {\n",
       "        vertical-align: middle;\n",
       "    }\n",
       "\n",
       "    .dataframe tbody tr th {\n",
       "        vertical-align: top;\n",
       "    }\n",
       "\n",
       "    .dataframe thead th {\n",
       "        text-align: right;\n",
       "    }\n",
       "</style>\n",
       "<table border=\"1\" class=\"dataframe\">\n",
       "  <thead>\n",
       "    <tr style=\"text-align: right;\">\n",
       "      <th></th>\n",
       "      <th>id</th>\n",
       "      <th>name</th>\n",
       "      <th>description</th>\n",
       "      <th>Type</th>\n",
       "    </tr>\n",
       "  </thead>\n",
       "  <tbody>\n",
       "    <tr>\n",
       "      <th>0</th>\n",
       "      <td>0</td>\n",
       "      <td>jugjugantor24</td>\n",
       "      <td>0</td>\n",
       "      <td>News</td>\n",
       "    </tr>\n",
       "    <tr>\n",
       "      <th>1</th>\n",
       "      <td>1</td>\n",
       "      <td>dailystarnews</td>\n",
       "      <td>Bangladesh's largest English Daily. The latest...</td>\n",
       "      <td>News</td>\n",
       "    </tr>\n",
       "    <tr>\n",
       "      <th>2</th>\n",
       "      <td>2</td>\n",
       "      <td>parvenbd</td>\n",
       "      <td>Aeronautical Engineer, Mentor(Rutgers State Un...</td>\n",
       "      <td>News</td>\n",
       "    </tr>\n",
       "    <tr>\n",
       "      <th>3</th>\n",
       "      <td>3</td>\n",
       "      <td>barta24bd</td>\n",
       "      <td>https://t.co/LrD6OpHQlK is a digital news mult...</td>\n",
       "      <td>News</td>\n",
       "    </tr>\n",
       "    <tr>\n",
       "      <th>4</th>\n",
       "      <td>4</td>\n",
       "      <td>TheDailyInqilab</td>\n",
       "      <td>Newspaper</td>\n",
       "      <td>News</td>\n",
       "    </tr>\n",
       "  </tbody>\n",
       "</table>\n",
       "</div>"
      ],
      "text/plain": [
       "   id             name                                        description  \\\n",
       "0   0    jugjugantor24                                                  0   \n",
       "1   1    dailystarnews  Bangladesh's largest English Daily. The latest...   \n",
       "2   2         parvenbd  Aeronautical Engineer, Mentor(Rutgers State Un...   \n",
       "3   3        barta24bd  https://t.co/LrD6OpHQlK is a digital news mult...   \n",
       "4   4  TheDailyInqilab                                          Newspaper   \n",
       "\n",
       "   Type  \n",
       "0  News  \n",
       "1  News  \n",
       "2  News  \n",
       "3  News  \n",
       "4  News  "
      ]
     },
     "execution_count": 3,
     "metadata": {},
     "output_type": "execute_result"
    }
   ],
   "source": [
    "news.head()"
   ]
  },
  {
   "cell_type": "code",
   "execution_count": 4,
   "metadata": {},
   "outputs": [
    {
     "data": {
      "text/plain": [
       "7480"
      ]
     },
     "execution_count": 4,
     "metadata": {},
     "output_type": "execute_result"
    }
   ],
   "source": [
    "len(news)"
   ]
  },
  {
   "cell_type": "code",
   "execution_count": 5,
   "metadata": {},
   "outputs": [],
   "source": [
    "news = news[:1070]"
   ]
  },
  {
   "cell_type": "code",
   "execution_count": 6,
   "metadata": {},
   "outputs": [
    {
     "data": {
      "text/html": [
       "<div>\n",
       "<style scoped>\n",
       "    .dataframe tbody tr th:only-of-type {\n",
       "        vertical-align: middle;\n",
       "    }\n",
       "\n",
       "    .dataframe tbody tr th {\n",
       "        vertical-align: top;\n",
       "    }\n",
       "\n",
       "    .dataframe thead th {\n",
       "        text-align: right;\n",
       "    }\n",
       "</style>\n",
       "<table border=\"1\" class=\"dataframe\">\n",
       "  <thead>\n",
       "    <tr style=\"text-align: right;\">\n",
       "      <th></th>\n",
       "      <th>id</th>\n",
       "      <th>name</th>\n",
       "      <th>description</th>\n",
       "      <th>Type</th>\n",
       "    </tr>\n",
       "  </thead>\n",
       "  <tbody>\n",
       "    <tr>\n",
       "      <th>0</th>\n",
       "      <td>0</td>\n",
       "      <td>jugjugantor24</td>\n",
       "      <td>0</td>\n",
       "      <td>News</td>\n",
       "    </tr>\n",
       "    <tr>\n",
       "      <th>1</th>\n",
       "      <td>1</td>\n",
       "      <td>dailystarnews</td>\n",
       "      <td>Bangladesh's largest English Daily. The latest...</td>\n",
       "      <td>News</td>\n",
       "    </tr>\n",
       "    <tr>\n",
       "      <th>2</th>\n",
       "      <td>2</td>\n",
       "      <td>parvenbd</td>\n",
       "      <td>Aeronautical Engineer, Mentor(Rutgers State Un...</td>\n",
       "      <td>News</td>\n",
       "    </tr>\n",
       "    <tr>\n",
       "      <th>3</th>\n",
       "      <td>3</td>\n",
       "      <td>barta24bd</td>\n",
       "      <td>https://t.co/LrD6OpHQlK is a digital news mult...</td>\n",
       "      <td>News</td>\n",
       "    </tr>\n",
       "    <tr>\n",
       "      <th>4</th>\n",
       "      <td>4</td>\n",
       "      <td>TheDailyInqilab</td>\n",
       "      <td>Newspaper</td>\n",
       "      <td>News</td>\n",
       "    </tr>\n",
       "    <tr>\n",
       "      <th>...</th>\n",
       "      <td>...</td>\n",
       "      <td>...</td>\n",
       "      <td>...</td>\n",
       "      <td>...</td>\n",
       "    </tr>\n",
       "    <tr>\n",
       "      <th>1065</th>\n",
       "      <td>1065</td>\n",
       "      <td>ChannelKhulna</td>\n",
       "      <td>Channel Khulna is a community based channel in...</td>\n",
       "      <td>NaN</td>\n",
       "    </tr>\n",
       "    <tr>\n",
       "      <th>1066</th>\n",
       "      <td>1066</td>\n",
       "      <td>newscamp24</td>\n",
       "      <td>https://t.co/nEqwINKhAC is a Online base bangl...</td>\n",
       "      <td>News</td>\n",
       "    </tr>\n",
       "    <tr>\n",
       "      <th>1067</th>\n",
       "      <td>1067</td>\n",
       "      <td>ShishirBaul</td>\n",
       "      <td>Gold Medalist at music and Singer &amp; Musician a...</td>\n",
       "      <td>NaN</td>\n",
       "    </tr>\n",
       "    <tr>\n",
       "      <th>1068</th>\n",
       "      <td>1068</td>\n",
       "      <td>tpmhumanrights</td>\n",
       "      <td>Secretary Email- sanjibkanjilal1982@gmail.com ...</td>\n",
       "      <td>NaN</td>\n",
       "    </tr>\n",
       "    <tr>\n",
       "      <th>1069</th>\n",
       "      <td>1069</td>\n",
       "      <td>Crof</td>\n",
       "      <td>Retired college teacher &amp; persistent writer (j...</td>\n",
       "      <td>NaN</td>\n",
       "    </tr>\n",
       "  </tbody>\n",
       "</table>\n",
       "<p>1070 rows × 4 columns</p>\n",
       "</div>"
      ],
      "text/plain": [
       "        id             name  \\\n",
       "0        0    jugjugantor24   \n",
       "1        1    dailystarnews   \n",
       "2        2         parvenbd   \n",
       "3        3        barta24bd   \n",
       "4        4  TheDailyInqilab   \n",
       "...    ...              ...   \n",
       "1065  1065    ChannelKhulna   \n",
       "1066  1066       newscamp24   \n",
       "1067  1067      ShishirBaul   \n",
       "1068  1068   tpmhumanrights   \n",
       "1069  1069             Crof   \n",
       "\n",
       "                                            description  Type  \n",
       "0                                                     0  News  \n",
       "1     Bangladesh's largest English Daily. The latest...  News  \n",
       "2     Aeronautical Engineer, Mentor(Rutgers State Un...  News  \n",
       "3     https://t.co/LrD6OpHQlK is a digital news mult...  News  \n",
       "4                                             Newspaper  News  \n",
       "...                                                 ...   ...  \n",
       "1065  Channel Khulna is a community based channel in...   NaN  \n",
       "1066  https://t.co/nEqwINKhAC is a Online base bangl...  News  \n",
       "1067  Gold Medalist at music and Singer & Musician a...   NaN  \n",
       "1068  Secretary Email- sanjibkanjilal1982@gmail.com ...   NaN  \n",
       "1069  Retired college teacher & persistent writer (j...   NaN  \n",
       "\n",
       "[1070 rows x 4 columns]"
      ]
     },
     "execution_count": 6,
     "metadata": {},
     "output_type": "execute_result"
    }
   ],
   "source": [
    "news"
   ]
  },
  {
   "cell_type": "code",
   "execution_count": 10,
   "metadata": {},
   "outputs": [],
   "source": [
    "name = list(news['name'])\n",
    "Type = list(news['Type'])\n",
    "desc = list(news['description'])"
   ]
  },
  {
   "cell_type": "code",
   "execution_count": 35,
   "metadata": {},
   "outputs": [],
   "source": [
    "for i in range(len(news)):\n",
    "    if 'news' in name[i] or 'news' in str(desc[i]) or 'barta' in name[i] or 'barta' in str(desc[i]) :\n",
    "        Type[i] = 'News'"
   ]
  },
  {
   "cell_type": "code",
   "execution_count": 36,
   "metadata": {},
   "outputs": [],
   "source": [
    "news['Type'] = Type"
   ]
  },
  {
   "cell_type": "code",
   "execution_count": 37,
   "metadata": {},
   "outputs": [],
   "source": [
    "news.to_excel('news.xlsx')"
   ]
  },
  {
   "cell_type": "code",
   "execution_count": null,
   "metadata": {},
   "outputs": [],
   "source": []
  },
  {
   "cell_type": "code",
   "execution_count": null,
   "metadata": {},
   "outputs": [],
   "source": []
  },
  {
   "cell_type": "code",
   "execution_count": 28,
   "metadata": {},
   "outputs": [
    {
     "data": {
      "text/plain": [
       "True"
      ]
     },
     "execution_count": 28,
     "metadata": {},
     "output_type": "execute_result"
    }
   ],
   "source": [
    "'news' in name[3] or 'news' in desc[3]"
   ]
  },
  {
   "cell_type": "code",
   "execution_count": null,
   "metadata": {},
   "outputs": [],
   "source": []
  },
  {
   "cell_type": "code",
   "execution_count": null,
   "metadata": {},
   "outputs": [],
   "source": []
  },
  {
   "cell_type": "code",
   "execution_count": null,
   "metadata": {},
   "outputs": [],
   "source": []
  },
  {
   "cell_type": "code",
   "execution_count": null,
   "metadata": {},
   "outputs": [],
   "source": []
  },
  {
   "cell_type": "code",
   "execution_count": 5,
   "metadata": {},
   "outputs": [],
   "source": [
    "a = 'rjmaude\t1073,ParveenSilvia\t1085,AFP\t1090,CDCtravel\t1121,sourav4tweet\t1219,KPSouthsubnDiv\t1222,BDTUBloodBank\t1235,Lakshmipur_Dist\t1375,'\n",
    "\n",
    "b = 'shameemsayedee\t1424,Rezwanulbsl\t1480,CricketNDTV\t1540,institutpasteur\t1556,saberhc\t1590,ajplus\t1601,albd1971\t1608,'\n",
    "\n",
    "c = 'PDChina\t1612,the_hindu\t1617,AmdadNoman\t1864,Osman__R_______\t2065,BDTUser\t2108,SohelAriyann\t2180,SohagSaifur\t2269,'\n",
    "\n",
    "d = 'amiaAkter00\t2275,Sobuz___\t2465,Rpartho94\t2513,montahajahan\t2542,Tahsin_1357\t2559,bodmasc\t2602,Moriom29596828\t2710,'\n",
    "\n",
    "e = 'DebjaniBhatta20\t2727,Yunus_Centre\t2748,legion__group\t2882,XHNews\t2942,VOANews\t3004,FightingMalaria\t3039,CP24\t3046,'\n",
    "\n",
    "f = 'Asiablog_it\t3058,NatashaFatah\t3059,trunilss\t3099,ifrc\t3130,AFPSouthAsia\t3206,WHOSEARO\t3230,RT_com\t3262,CGTNOfficial\t3303,'\n",
    "\n",
    "g = 'babyforeiign\t3336,Omar_Akbari_\t3389,INCWestBengal\t3715,bmouBJP\t4292,learnerpritom\t4357,Faisalnaifaru\t4482,Farhana_Rahi\t5266,'\n",
    "\n",
    "h = 'dalim1975\t5288,MAarafat71\t5540,sheuly_jahan\t5927,tarique_arhaum\t6611,hasanurrahmant2\t7374'"
   ]
  },
  {
   "cell_type": "code",
   "execution_count": 6,
   "metadata": {},
   "outputs": [],
   "source": [
    "haha = a+b+c+d+e+f+g+h"
   ]
  },
  {
   "cell_type": "code",
   "execution_count": 7,
   "metadata": {},
   "outputs": [],
   "source": [
    "haha = haha.split(',')"
   ]
  },
  {
   "cell_type": "code",
   "execution_count": 8,
   "metadata": {},
   "outputs": [],
   "source": [
    "a,b = map(list, zip(*[i.split('\\t') for i in haha]))"
   ]
  },
  {
   "cell_type": "code",
   "execution_count": 9,
   "metadata": {},
   "outputs": [],
   "source": [
    "b = [int(i) for i in b]"
   ]
  },
  {
   "cell_type": "code",
   "execution_count": 10,
   "metadata": {},
   "outputs": [],
   "source": [
    "c = [0 for i in range(len(a))]"
   ]
  },
  {
   "cell_type": "code",
   "execution_count": 11,
   "metadata": {},
   "outputs": [],
   "source": [
    "d = [0 for i in range(len(a))]"
   ]
  },
  {
   "cell_type": "code",
   "execution_count": 12,
   "metadata": {},
   "outputs": [],
   "source": [
    "news2 = pd.DataFrame(list(zip(b,a,c,d)),columns=news.columns)"
   ]
  },
  {
   "cell_type": "code",
   "execution_count": 13,
   "metadata": {},
   "outputs": [],
   "source": [
    "news = pd.read_excel('news.xlsx')"
   ]
  },
  {
   "cell_type": "code",
   "execution_count": 14,
   "metadata": {},
   "outputs": [],
   "source": [
    "news.drop('Unnamed: 0',axis=1,inplace=True)"
   ]
  },
  {
   "cell_type": "code",
   "execution_count": 15,
   "metadata": {},
   "outputs": [],
   "source": [
    "news = pd.concat([news,news2])"
   ]
  },
  {
   "cell_type": "code",
   "execution_count": 16,
   "metadata": {},
   "outputs": [],
   "source": [
    "news.index = [i for i in range(len(news))]"
   ]
  },
  {
   "cell_type": "code",
   "execution_count": 17,
   "metadata": {},
   "outputs": [
    {
     "data": {
      "text/html": [
       "<div>\n",
       "<style scoped>\n",
       "    .dataframe tbody tr th:only-of-type {\n",
       "        vertical-align: middle;\n",
       "    }\n",
       "\n",
       "    .dataframe tbody tr th {\n",
       "        vertical-align: top;\n",
       "    }\n",
       "\n",
       "    .dataframe thead th {\n",
       "        text-align: right;\n",
       "    }\n",
       "</style>\n",
       "<table border=\"1\" class=\"dataframe\">\n",
       "  <thead>\n",
       "    <tr style=\"text-align: right;\">\n",
       "      <th></th>\n",
       "      <th>id</th>\n",
       "      <th>name</th>\n",
       "      <th>description</th>\n",
       "      <th>Type</th>\n",
       "    </tr>\n",
       "  </thead>\n",
       "  <tbody>\n",
       "    <tr>\n",
       "      <th>0</th>\n",
       "      <td>0</td>\n",
       "      <td>jugjugantor24</td>\n",
       "      <td>0</td>\n",
       "      <td>News</td>\n",
       "    </tr>\n",
       "    <tr>\n",
       "      <th>1</th>\n",
       "      <td>1</td>\n",
       "      <td>dailystarnews</td>\n",
       "      <td>Bangladesh's largest English Daily. The latest...</td>\n",
       "      <td>News</td>\n",
       "    </tr>\n",
       "    <tr>\n",
       "      <th>2</th>\n",
       "      <td>2</td>\n",
       "      <td>parvenbd</td>\n",
       "      <td>Aeronautical Engineer, Mentor(Rutgers State Un...</td>\n",
       "      <td>News</td>\n",
       "    </tr>\n",
       "    <tr>\n",
       "      <th>3</th>\n",
       "      <td>3</td>\n",
       "      <td>barta24bd</td>\n",
       "      <td>https://t.co/LrD6OpHQlK is a digital news mult...</td>\n",
       "      <td>News</td>\n",
       "    </tr>\n",
       "    <tr>\n",
       "      <th>4</th>\n",
       "      <td>4</td>\n",
       "      <td>TheDailyInqilab</td>\n",
       "      <td>Newspaper</td>\n",
       "      <td>News</td>\n",
       "    </tr>\n",
       "    <tr>\n",
       "      <th>...</th>\n",
       "      <td>...</td>\n",
       "      <td>...</td>\n",
       "      <td>...</td>\n",
       "      <td>...</td>\n",
       "    </tr>\n",
       "    <tr>\n",
       "      <th>1121</th>\n",
       "      <td>5288</td>\n",
       "      <td>dalim1975</td>\n",
       "      <td>51</td>\n",
       "      <td>51</td>\n",
       "    </tr>\n",
       "    <tr>\n",
       "      <th>1122</th>\n",
       "      <td>5540</td>\n",
       "      <td>MAarafat71</td>\n",
       "      <td>52</td>\n",
       "      <td>52</td>\n",
       "    </tr>\n",
       "    <tr>\n",
       "      <th>1123</th>\n",
       "      <td>5927</td>\n",
       "      <td>sheuly_jahan</td>\n",
       "      <td>53</td>\n",
       "      <td>53</td>\n",
       "    </tr>\n",
       "    <tr>\n",
       "      <th>1124</th>\n",
       "      <td>6611</td>\n",
       "      <td>tarique_arhaum</td>\n",
       "      <td>54</td>\n",
       "      <td>54</td>\n",
       "    </tr>\n",
       "    <tr>\n",
       "      <th>1125</th>\n",
       "      <td>7374</td>\n",
       "      <td>hasanurrahmant2</td>\n",
       "      <td>55</td>\n",
       "      <td>55</td>\n",
       "    </tr>\n",
       "  </tbody>\n",
       "</table>\n",
       "<p>1126 rows × 4 columns</p>\n",
       "</div>"
      ],
      "text/plain": [
       "        id             name  \\\n",
       "0        0    jugjugantor24   \n",
       "1        1    dailystarnews   \n",
       "2        2         parvenbd   \n",
       "3        3        barta24bd   \n",
       "4        4  TheDailyInqilab   \n",
       "...    ...              ...   \n",
       "1121  5288        dalim1975   \n",
       "1122  5540       MAarafat71   \n",
       "1123  5927     sheuly_jahan   \n",
       "1124  6611   tarique_arhaum   \n",
       "1125  7374  hasanurrahmant2   \n",
       "\n",
       "                                            description  Type  \n",
       "0                                                     0  News  \n",
       "1     Bangladesh's largest English Daily. The latest...  News  \n",
       "2     Aeronautical Engineer, Mentor(Rutgers State Un...  News  \n",
       "3     https://t.co/LrD6OpHQlK is a digital news mult...  News  \n",
       "4                                             Newspaper  News  \n",
       "...                                                 ...   ...  \n",
       "1121                                                 51    51  \n",
       "1122                                                 52    52  \n",
       "1123                                                 53    53  \n",
       "1124                                                 54    54  \n",
       "1125                                                 55    55  \n",
       "\n",
       "[1126 rows x 4 columns]"
      ]
     },
     "execution_count": 17,
     "metadata": {},
     "output_type": "execute_result"
    }
   ],
   "source": [
    "news"
   ]
  },
  {
   "cell_type": "code",
   "execution_count": 18,
   "metadata": {},
   "outputs": [],
   "source": [
    "news.to_excel('news_v2.xlsx')"
   ]
  },
  {
   "cell_type": "code",
   "execution_count": null,
   "metadata": {},
   "outputs": [],
   "source": []
  },
  {
   "cell_type": "code",
   "execution_count": null,
   "metadata": {},
   "outputs": [],
   "source": []
  }
 ],
 "metadata": {
  "kernelspec": {
   "display_name": "Python 3",
   "language": "python",
   "name": "python3"
  },
  "language_info": {
   "codemirror_mode": {
    "name": "ipython",
    "version": 3
   },
   "file_extension": ".py",
   "mimetype": "text/x-python",
   "name": "python",
   "nbconvert_exporter": "python",
   "pygments_lexer": "ipython3",
   "version": "3.7.6"
  }
 },
 "nbformat": 4,
 "nbformat_minor": 4
}
