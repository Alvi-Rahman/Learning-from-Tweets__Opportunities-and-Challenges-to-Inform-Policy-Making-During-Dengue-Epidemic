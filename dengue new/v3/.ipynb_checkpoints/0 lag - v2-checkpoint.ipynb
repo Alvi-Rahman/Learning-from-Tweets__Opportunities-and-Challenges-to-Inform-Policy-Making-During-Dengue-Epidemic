{
 "cells": [
  {
   "cell_type": "code",
   "execution_count": 1,
   "metadata": {},
   "outputs": [],
   "source": [
    "import numpy as np\n",
    "import pandas as pd"
   ]
  },
  {
   "cell_type": "code",
   "execution_count": 2,
   "metadata": {},
   "outputs": [],
   "source": [
    "data = pd.read_excel('data_v7.xlsx')"
   ]
  },
  {
   "cell_type": "code",
   "execution_count": 3,
   "metadata": {},
   "outputs": [
    {
     "data": {
      "text/html": [
       "<div>\n",
       "<style scoped>\n",
       "    .dataframe tbody tr th:only-of-type {\n",
       "        vertical-align: middle;\n",
       "    }\n",
       "\n",
       "    .dataframe tbody tr th {\n",
       "        vertical-align: top;\n",
       "    }\n",
       "\n",
       "    .dataframe thead th {\n",
       "        text-align: right;\n",
       "    }\n",
       "</style>\n",
       "<table border=\"1\" class=\"dataframe\">\n",
       "  <thead>\n",
       "    <tr style=\"text-align: right;\">\n",
       "      <th></th>\n",
       "      <th>Unnamed: 0</th>\n",
       "      <th>locations_month</th>\n",
       "      <th>maxtempC</th>\n",
       "      <th>mintempC</th>\n",
       "      <th>avgtempC</th>\n",
       "      <th>sunHour</th>\n",
       "      <th>uvIndex</th>\n",
       "      <th>humidity</th>\n",
       "      <th>visibility</th>\n",
       "      <th>visibilityMiles</th>\n",
       "      <th>...</th>\n",
       "      <th>cloudcover</th>\n",
       "      <th>HeatIndexC</th>\n",
       "      <th>DewPointC</th>\n",
       "      <th>WindChillC</th>\n",
       "      <th>FeelsLikeC</th>\n",
       "      <th>rainFall</th>\n",
       "      <th>rainDays</th>\n",
       "      <th>date</th>\n",
       "      <th>locations</th>\n",
       "      <th>label</th>\n",
       "    </tr>\n",
       "  </thead>\n",
       "  <tbody>\n",
       "    <tr>\n",
       "      <th>0</th>\n",
       "      <td>0</td>\n",
       "      <td>barisal2015-1</td>\n",
       "      <td>26.0</td>\n",
       "      <td>17.0</td>\n",
       "      <td>21.0</td>\n",
       "      <td>8.70</td>\n",
       "      <td>6.0</td>\n",
       "      <td>53.0</td>\n",
       "      <td>10.0</td>\n",
       "      <td>6.0</td>\n",
       "      <td>...</td>\n",
       "      <td>1.5</td>\n",
       "      <td>24.0</td>\n",
       "      <td>13.0</td>\n",
       "      <td>23.0</td>\n",
       "      <td>23.0</td>\n",
       "      <td>10.17</td>\n",
       "      <td>3.0</td>\n",
       "      <td>2015-1</td>\n",
       "      <td>barisal</td>\n",
       "      <td>0</td>\n",
       "    </tr>\n",
       "    <tr>\n",
       "      <th>1</th>\n",
       "      <td>1</td>\n",
       "      <td>barisal2015-2</td>\n",
       "      <td>28.0</td>\n",
       "      <td>19.0</td>\n",
       "      <td>23.0</td>\n",
       "      <td>8.70</td>\n",
       "      <td>6.0</td>\n",
       "      <td>55.5</td>\n",
       "      <td>10.0</td>\n",
       "      <td>6.0</td>\n",
       "      <td>...</td>\n",
       "      <td>9.5</td>\n",
       "      <td>26.0</td>\n",
       "      <td>14.0</td>\n",
       "      <td>25.0</td>\n",
       "      <td>26.0</td>\n",
       "      <td>2.26</td>\n",
       "      <td>3.0</td>\n",
       "      <td>2015-2</td>\n",
       "      <td>barisal</td>\n",
       "      <td>0</td>\n",
       "    </tr>\n",
       "    <tr>\n",
       "      <th>2</th>\n",
       "      <td>2</td>\n",
       "      <td>barisal2015-3</td>\n",
       "      <td>33.0</td>\n",
       "      <td>22.0</td>\n",
       "      <td>27.0</td>\n",
       "      <td>11.60</td>\n",
       "      <td>7.0</td>\n",
       "      <td>50.5</td>\n",
       "      <td>10.0</td>\n",
       "      <td>6.0</td>\n",
       "      <td>...</td>\n",
       "      <td>13.0</td>\n",
       "      <td>30.0</td>\n",
       "      <td>16.0</td>\n",
       "      <td>29.0</td>\n",
       "      <td>30.0</td>\n",
       "      <td>4.83</td>\n",
       "      <td>14.0</td>\n",
       "      <td>2015-3</td>\n",
       "      <td>barisal</td>\n",
       "      <td>0</td>\n",
       "    </tr>\n",
       "    <tr>\n",
       "      <th>3</th>\n",
       "      <td>3</td>\n",
       "      <td>barisal2015-4</td>\n",
       "      <td>33.0</td>\n",
       "      <td>26.5</td>\n",
       "      <td>29.0</td>\n",
       "      <td>12.75</td>\n",
       "      <td>7.0</td>\n",
       "      <td>67.5</td>\n",
       "      <td>10.0</td>\n",
       "      <td>6.0</td>\n",
       "      <td>...</td>\n",
       "      <td>31.5</td>\n",
       "      <td>34.0</td>\n",
       "      <td>23.0</td>\n",
       "      <td>30.0</td>\n",
       "      <td>34.0</td>\n",
       "      <td>44.09</td>\n",
       "      <td>16.0</td>\n",
       "      <td>2015-4</td>\n",
       "      <td>barisal</td>\n",
       "      <td>0</td>\n",
       "    </tr>\n",
       "    <tr>\n",
       "      <th>4</th>\n",
       "      <td>4</td>\n",
       "      <td>barisal2015-5</td>\n",
       "      <td>35.0</td>\n",
       "      <td>28.0</td>\n",
       "      <td>31.0</td>\n",
       "      <td>13.10</td>\n",
       "      <td>8.0</td>\n",
       "      <td>69.5</td>\n",
       "      <td>10.0</td>\n",
       "      <td>6.0</td>\n",
       "      <td>...</td>\n",
       "      <td>37.5</td>\n",
       "      <td>38.0</td>\n",
       "      <td>25.0</td>\n",
       "      <td>32.0</td>\n",
       "      <td>38.0</td>\n",
       "      <td>20.35</td>\n",
       "      <td>15.0</td>\n",
       "      <td>2015-5</td>\n",
       "      <td>barisal</td>\n",
       "      <td>0</td>\n",
       "    </tr>\n",
       "  </tbody>\n",
       "</table>\n",
       "<p>5 rows × 22 columns</p>\n",
       "</div>"
      ],
      "text/plain": [
       "   Unnamed: 0 locations_month  maxtempC  mintempC  avgtempC  sunHour  uvIndex  \\\n",
       "0           0   barisal2015-1      26.0      17.0      21.0     8.70      6.0   \n",
       "1           1   barisal2015-2      28.0      19.0      23.0     8.70      6.0   \n",
       "2           2   barisal2015-3      33.0      22.0      27.0    11.60      7.0   \n",
       "3           3   barisal2015-4      33.0      26.5      29.0    12.75      7.0   \n",
       "4           4   barisal2015-5      35.0      28.0      31.0    13.10      8.0   \n",
       "\n",
       "   humidity  visibility  visibilityMiles  ...  cloudcover  HeatIndexC  \\\n",
       "0      53.0        10.0              6.0  ...         1.5        24.0   \n",
       "1      55.5        10.0              6.0  ...         9.5        26.0   \n",
       "2      50.5        10.0              6.0  ...        13.0        30.0   \n",
       "3      67.5        10.0              6.0  ...        31.5        34.0   \n",
       "4      69.5        10.0              6.0  ...        37.5        38.0   \n",
       "\n",
       "   DewPointC  WindChillC  FeelsLikeC  rainFall  rainDays    date  locations  \\\n",
       "0       13.0        23.0        23.0     10.17       3.0  2015-1    barisal   \n",
       "1       14.0        25.0        26.0      2.26       3.0  2015-2    barisal   \n",
       "2       16.0        29.0        30.0      4.83      14.0  2015-3    barisal   \n",
       "3       23.0        30.0        34.0     44.09      16.0  2015-4    barisal   \n",
       "4       25.0        32.0        38.0     20.35      15.0  2015-5    barisal   \n",
       "\n",
       "  label  \n",
       "0     0  \n",
       "1     0  \n",
       "2     0  \n",
       "3     0  \n",
       "4     0  \n",
       "\n",
       "[5 rows x 22 columns]"
      ]
     },
     "execution_count": 3,
     "metadata": {},
     "output_type": "execute_result"
    }
   ],
   "source": [
    "data.head()"
   ]
  },
  {
   "cell_type": "code",
   "execution_count": 4,
   "metadata": {},
   "outputs": [
    {
     "data": {
      "text/plain": [
       "0"
      ]
     },
     "execution_count": 4,
     "metadata": {},
     "output_type": "execute_result"
    }
   ],
   "source": [
    "len(data[data.isnull().any(axis=1)])"
   ]
  },
  {
   "cell_type": "code",
   "execution_count": 5,
   "metadata": {},
   "outputs": [],
   "source": [
    "data.drop(['Unnamed: 0','locations_month','label','date'],axis=1,inplace=True)"
   ]
  },
  {
   "cell_type": "code",
   "execution_count": 6,
   "metadata": {},
   "outputs": [],
   "source": [
    "data.drop(['pressureInches','visibility'],axis=1,inplace=True)"
   ]
  },
  {
   "cell_type": "code",
   "execution_count": 7,
   "metadata": {},
   "outputs": [
    {
     "data": {
      "text/html": [
       "<div>\n",
       "<style scoped>\n",
       "    .dataframe tbody tr th:only-of-type {\n",
       "        vertical-align: middle;\n",
       "    }\n",
       "\n",
       "    .dataframe tbody tr th {\n",
       "        vertical-align: top;\n",
       "    }\n",
       "\n",
       "    .dataframe thead th {\n",
       "        text-align: right;\n",
       "    }\n",
       "</style>\n",
       "<table border=\"1\" class=\"dataframe\">\n",
       "  <thead>\n",
       "    <tr style=\"text-align: right;\">\n",
       "      <th></th>\n",
       "      <th>maxtempC</th>\n",
       "      <th>mintempC</th>\n",
       "      <th>avgtempC</th>\n",
       "      <th>sunHour</th>\n",
       "      <th>uvIndex</th>\n",
       "      <th>humidity</th>\n",
       "      <th>visibilityMiles</th>\n",
       "      <th>pressure</th>\n",
       "      <th>cloudcover</th>\n",
       "      <th>HeatIndexC</th>\n",
       "      <th>DewPointC</th>\n",
       "      <th>WindChillC</th>\n",
       "      <th>FeelsLikeC</th>\n",
       "      <th>rainFall</th>\n",
       "      <th>rainDays</th>\n",
       "      <th>locations</th>\n",
       "    </tr>\n",
       "  </thead>\n",
       "  <tbody>\n",
       "    <tr>\n",
       "      <th>0</th>\n",
       "      <td>26.0</td>\n",
       "      <td>17.0</td>\n",
       "      <td>21.0</td>\n",
       "      <td>8.70</td>\n",
       "      <td>6.0</td>\n",
       "      <td>53.0</td>\n",
       "      <td>6.0</td>\n",
       "      <td>1015.0</td>\n",
       "      <td>1.5</td>\n",
       "      <td>24.0</td>\n",
       "      <td>13.0</td>\n",
       "      <td>23.0</td>\n",
       "      <td>23.0</td>\n",
       "      <td>10.17</td>\n",
       "      <td>3.0</td>\n",
       "      <td>barisal</td>\n",
       "    </tr>\n",
       "    <tr>\n",
       "      <th>1</th>\n",
       "      <td>28.0</td>\n",
       "      <td>19.0</td>\n",
       "      <td>23.0</td>\n",
       "      <td>8.70</td>\n",
       "      <td>6.0</td>\n",
       "      <td>55.5</td>\n",
       "      <td>6.0</td>\n",
       "      <td>1013.5</td>\n",
       "      <td>9.5</td>\n",
       "      <td>26.0</td>\n",
       "      <td>14.0</td>\n",
       "      <td>25.0</td>\n",
       "      <td>26.0</td>\n",
       "      <td>2.26</td>\n",
       "      <td>3.0</td>\n",
       "      <td>barisal</td>\n",
       "    </tr>\n",
       "    <tr>\n",
       "      <th>2</th>\n",
       "      <td>33.0</td>\n",
       "      <td>22.0</td>\n",
       "      <td>27.0</td>\n",
       "      <td>11.60</td>\n",
       "      <td>7.0</td>\n",
       "      <td>50.5</td>\n",
       "      <td>6.0</td>\n",
       "      <td>1011.0</td>\n",
       "      <td>13.0</td>\n",
       "      <td>30.0</td>\n",
       "      <td>16.0</td>\n",
       "      <td>29.0</td>\n",
       "      <td>30.0</td>\n",
       "      <td>4.83</td>\n",
       "      <td>14.0</td>\n",
       "      <td>barisal</td>\n",
       "    </tr>\n",
       "    <tr>\n",
       "      <th>3</th>\n",
       "      <td>33.0</td>\n",
       "      <td>26.5</td>\n",
       "      <td>29.0</td>\n",
       "      <td>12.75</td>\n",
       "      <td>7.0</td>\n",
       "      <td>67.5</td>\n",
       "      <td>6.0</td>\n",
       "      <td>1008.0</td>\n",
       "      <td>31.5</td>\n",
       "      <td>34.0</td>\n",
       "      <td>23.0</td>\n",
       "      <td>30.0</td>\n",
       "      <td>34.0</td>\n",
       "      <td>44.09</td>\n",
       "      <td>16.0</td>\n",
       "      <td>barisal</td>\n",
       "    </tr>\n",
       "    <tr>\n",
       "      <th>4</th>\n",
       "      <td>35.0</td>\n",
       "      <td>28.0</td>\n",
       "      <td>31.0</td>\n",
       "      <td>13.10</td>\n",
       "      <td>8.0</td>\n",
       "      <td>69.5</td>\n",
       "      <td>6.0</td>\n",
       "      <td>1005.0</td>\n",
       "      <td>37.5</td>\n",
       "      <td>38.0</td>\n",
       "      <td>25.0</td>\n",
       "      <td>32.0</td>\n",
       "      <td>38.0</td>\n",
       "      <td>20.35</td>\n",
       "      <td>15.0</td>\n",
       "      <td>barisal</td>\n",
       "    </tr>\n",
       "  </tbody>\n",
       "</table>\n",
       "</div>"
      ],
      "text/plain": [
       "   maxtempC  mintempC  avgtempC  sunHour  uvIndex  humidity  visibilityMiles  \\\n",
       "0      26.0      17.0      21.0     8.70      6.0      53.0              6.0   \n",
       "1      28.0      19.0      23.0     8.70      6.0      55.5              6.0   \n",
       "2      33.0      22.0      27.0    11.60      7.0      50.5              6.0   \n",
       "3      33.0      26.5      29.0    12.75      7.0      67.5              6.0   \n",
       "4      35.0      28.0      31.0    13.10      8.0      69.5              6.0   \n",
       "\n",
       "   pressure  cloudcover  HeatIndexC  DewPointC  WindChillC  FeelsLikeC  \\\n",
       "0    1015.0         1.5        24.0       13.0        23.0        23.0   \n",
       "1    1013.5         9.5        26.0       14.0        25.0        26.0   \n",
       "2    1011.0        13.0        30.0       16.0        29.0        30.0   \n",
       "3    1008.0        31.5        34.0       23.0        30.0        34.0   \n",
       "4    1005.0        37.5        38.0       25.0        32.0        38.0   \n",
       "\n",
       "   rainFall  rainDays locations  \n",
       "0     10.17       3.0   barisal  \n",
       "1      2.26       3.0   barisal  \n",
       "2      4.83      14.0   barisal  \n",
       "3     44.09      16.0   barisal  \n",
       "4     20.35      15.0   barisal  "
      ]
     },
     "execution_count": 7,
     "metadata": {},
     "output_type": "execute_result"
    }
   ],
   "source": [
    "data.head()"
   ]
  },
  {
   "cell_type": "code",
   "execution_count": 8,
   "metadata": {},
   "outputs": [],
   "source": [
    "loc_lst = list(data['locations'].unique())\n",
    "\n",
    "i = 0\n",
    "for haha in loc_lst:\n",
    "    \n",
    "    data.loc[data.locations == haha, 'locations'] = i\n",
    "    i+=1"
   ]
  },
  {
   "cell_type": "code",
   "execution_count": 9,
   "metadata": {},
   "outputs": [],
   "source": [
    "from sklearn.decomposition import PCA\n",
    "from sklearn.preprocessing import MinMaxScaler"
   ]
  },
  {
   "cell_type": "code",
   "execution_count": 10,
   "metadata": {},
   "outputs": [
    {
     "data": {
      "text/html": [
       "<div>\n",
       "<style scoped>\n",
       "    .dataframe tbody tr th:only-of-type {\n",
       "        vertical-align: middle;\n",
       "    }\n",
       "\n",
       "    .dataframe tbody tr th {\n",
       "        vertical-align: top;\n",
       "    }\n",
       "\n",
       "    .dataframe thead th {\n",
       "        text-align: right;\n",
       "    }\n",
       "</style>\n",
       "<table border=\"1\" class=\"dataframe\">\n",
       "  <thead>\n",
       "    <tr style=\"text-align: right;\">\n",
       "      <th></th>\n",
       "      <th>maxtempC</th>\n",
       "      <th>mintempC</th>\n",
       "      <th>avgtempC</th>\n",
       "      <th>sunHour</th>\n",
       "      <th>uvIndex</th>\n",
       "      <th>humidity</th>\n",
       "      <th>visibilityMiles</th>\n",
       "      <th>pressure</th>\n",
       "      <th>cloudcover</th>\n",
       "      <th>HeatIndexC</th>\n",
       "      <th>DewPointC</th>\n",
       "      <th>WindChillC</th>\n",
       "      <th>FeelsLikeC</th>\n",
       "      <th>rainFall</th>\n",
       "      <th>rainDays</th>\n",
       "      <th>locations</th>\n",
       "    </tr>\n",
       "  </thead>\n",
       "  <tbody>\n",
       "    <tr>\n",
       "      <th>maxtempC</th>\n",
       "      <td>1.000000</td>\n",
       "      <td>0.797501</td>\n",
       "      <td>0.909098</td>\n",
       "      <td>0.774211</td>\n",
       "      <td>0.821890</td>\n",
       "      <td>0.205025</td>\n",
       "      <td>-0.164733</td>\n",
       "      <td>-0.674420</td>\n",
       "      <td>0.490268</td>\n",
       "      <td>0.808328</td>\n",
       "      <td>0.559769</td>\n",
       "      <td>0.910055</td>\n",
       "      <td>0.816631</td>\n",
       "      <td>0.268291</td>\n",
       "      <td>0.531454</td>\n",
       "      <td>0.053065</td>\n",
       "    </tr>\n",
       "    <tr>\n",
       "      <th>mintempC</th>\n",
       "      <td>0.797501</td>\n",
       "      <td>1.000000</td>\n",
       "      <td>0.954623</td>\n",
       "      <td>0.785732</td>\n",
       "      <td>0.795536</td>\n",
       "      <td>0.568866</td>\n",
       "      <td>-0.311691</td>\n",
       "      <td>-0.875864</td>\n",
       "      <td>0.745291</td>\n",
       "      <td>0.971363</td>\n",
       "      <td>0.855579</td>\n",
       "      <td>0.930556</td>\n",
       "      <td>0.972693</td>\n",
       "      <td>0.444601</td>\n",
       "      <td>0.724013</td>\n",
       "      <td>-0.098490</td>\n",
       "    </tr>\n",
       "    <tr>\n",
       "      <th>avgtempC</th>\n",
       "      <td>0.909098</td>\n",
       "      <td>0.954623</td>\n",
       "      <td>1.000000</td>\n",
       "      <td>0.778998</td>\n",
       "      <td>0.838613</td>\n",
       "      <td>0.402897</td>\n",
       "      <td>-0.246397</td>\n",
       "      <td>-0.811171</td>\n",
       "      <td>0.673871</td>\n",
       "      <td>0.929708</td>\n",
       "      <td>0.738929</td>\n",
       "      <td>0.954945</td>\n",
       "      <td>0.934225</td>\n",
       "      <td>0.424528</td>\n",
       "      <td>0.669351</td>\n",
       "      <td>-0.045289</td>\n",
       "    </tr>\n",
       "    <tr>\n",
       "      <th>sunHour</th>\n",
       "      <td>0.774211</td>\n",
       "      <td>0.785732</td>\n",
       "      <td>0.778998</td>\n",
       "      <td>1.000000</td>\n",
       "      <td>0.729958</td>\n",
       "      <td>0.411355</td>\n",
       "      <td>-0.232959</td>\n",
       "      <td>-0.736360</td>\n",
       "      <td>0.511181</td>\n",
       "      <td>0.793423</td>\n",
       "      <td>0.656132</td>\n",
       "      <td>0.791034</td>\n",
       "      <td>0.796918</td>\n",
       "      <td>0.176593</td>\n",
       "      <td>0.613974</td>\n",
       "      <td>-0.026310</td>\n",
       "    </tr>\n",
       "    <tr>\n",
       "      <th>uvIndex</th>\n",
       "      <td>0.821890</td>\n",
       "      <td>0.795536</td>\n",
       "      <td>0.838613</td>\n",
       "      <td>0.729958</td>\n",
       "      <td>1.000000</td>\n",
       "      <td>0.213123</td>\n",
       "      <td>-0.026906</td>\n",
       "      <td>-0.609243</td>\n",
       "      <td>0.367579</td>\n",
       "      <td>0.780755</td>\n",
       "      <td>0.567798</td>\n",
       "      <td>0.853297</td>\n",
       "      <td>0.783358</td>\n",
       "      <td>0.159381</td>\n",
       "      <td>0.465248</td>\n",
       "      <td>-0.064029</td>\n",
       "    </tr>\n",
       "    <tr>\n",
       "      <th>humidity</th>\n",
       "      <td>0.205025</td>\n",
       "      <td>0.568866</td>\n",
       "      <td>0.402897</td>\n",
       "      <td>0.411355</td>\n",
       "      <td>0.213123</td>\n",
       "      <td>1.000000</td>\n",
       "      <td>-0.592411</td>\n",
       "      <td>-0.636538</td>\n",
       "      <td>0.740321</td>\n",
       "      <td>0.600097</td>\n",
       "      <td>0.886743</td>\n",
       "      <td>0.365065</td>\n",
       "      <td>0.593601</td>\n",
       "      <td>0.477358</td>\n",
       "      <td>0.634772</td>\n",
       "      <td>-0.104425</td>\n",
       "    </tr>\n",
       "    <tr>\n",
       "      <th>visibilityMiles</th>\n",
       "      <td>-0.164733</td>\n",
       "      <td>-0.311691</td>\n",
       "      <td>-0.246397</td>\n",
       "      <td>-0.232959</td>\n",
       "      <td>-0.026906</td>\n",
       "      <td>-0.592411</td>\n",
       "      <td>1.000000</td>\n",
       "      <td>0.451349</td>\n",
       "      <td>-0.658623</td>\n",
       "      <td>-0.317739</td>\n",
       "      <td>-0.464525</td>\n",
       "      <td>-0.169855</td>\n",
       "      <td>-0.316769</td>\n",
       "      <td>-0.572457</td>\n",
       "      <td>-0.545801</td>\n",
       "      <td>-0.019238</td>\n",
       "    </tr>\n",
       "    <tr>\n",
       "      <th>pressure</th>\n",
       "      <td>-0.674420</td>\n",
       "      <td>-0.875864</td>\n",
       "      <td>-0.811171</td>\n",
       "      <td>-0.736360</td>\n",
       "      <td>-0.609243</td>\n",
       "      <td>-0.636538</td>\n",
       "      <td>0.451349</td>\n",
       "      <td>1.000000</td>\n",
       "      <td>-0.832867</td>\n",
       "      <td>-0.902136</td>\n",
       "      <td>-0.824570</td>\n",
       "      <td>-0.792339</td>\n",
       "      <td>-0.900993</td>\n",
       "      <td>-0.502659</td>\n",
       "      <td>-0.762050</td>\n",
       "      <td>-0.013927</td>\n",
       "    </tr>\n",
       "    <tr>\n",
       "      <th>cloudcover</th>\n",
       "      <td>0.490268</td>\n",
       "      <td>0.745291</td>\n",
       "      <td>0.673871</td>\n",
       "      <td>0.511181</td>\n",
       "      <td>0.367579</td>\n",
       "      <td>0.740321</td>\n",
       "      <td>-0.658623</td>\n",
       "      <td>-0.832867</td>\n",
       "      <td>1.000000</td>\n",
       "      <td>0.735995</td>\n",
       "      <td>0.781837</td>\n",
       "      <td>0.575432</td>\n",
       "      <td>0.734762</td>\n",
       "      <td>0.703806</td>\n",
       "      <td>0.785223</td>\n",
       "      <td>0.004089</td>\n",
       "    </tr>\n",
       "    <tr>\n",
       "      <th>HeatIndexC</th>\n",
       "      <td>0.808328</td>\n",
       "      <td>0.971363</td>\n",
       "      <td>0.929708</td>\n",
       "      <td>0.793423</td>\n",
       "      <td>0.780755</td>\n",
       "      <td>0.600097</td>\n",
       "      <td>-0.317739</td>\n",
       "      <td>-0.902136</td>\n",
       "      <td>0.735995</td>\n",
       "      <td>1.000000</td>\n",
       "      <td>0.883386</td>\n",
       "      <td>0.941055</td>\n",
       "      <td>0.998681</td>\n",
       "      <td>0.425756</td>\n",
       "      <td>0.718329</td>\n",
       "      <td>-0.070189</td>\n",
       "    </tr>\n",
       "    <tr>\n",
       "      <th>DewPointC</th>\n",
       "      <td>0.559769</td>\n",
       "      <td>0.855579</td>\n",
       "      <td>0.738929</td>\n",
       "      <td>0.656132</td>\n",
       "      <td>0.567798</td>\n",
       "      <td>0.886743</td>\n",
       "      <td>-0.464525</td>\n",
       "      <td>-0.824570</td>\n",
       "      <td>0.781837</td>\n",
       "      <td>0.883386</td>\n",
       "      <td>1.000000</td>\n",
       "      <td>0.735085</td>\n",
       "      <td>0.878979</td>\n",
       "      <td>0.478025</td>\n",
       "      <td>0.726421</td>\n",
       "      <td>-0.115218</td>\n",
       "    </tr>\n",
       "    <tr>\n",
       "      <th>WindChillC</th>\n",
       "      <td>0.910055</td>\n",
       "      <td>0.930556</td>\n",
       "      <td>0.954945</td>\n",
       "      <td>0.791034</td>\n",
       "      <td>0.853297</td>\n",
       "      <td>0.365065</td>\n",
       "      <td>-0.169855</td>\n",
       "      <td>-0.792339</td>\n",
       "      <td>0.575432</td>\n",
       "      <td>0.941055</td>\n",
       "      <td>0.735085</td>\n",
       "      <td>1.000000</td>\n",
       "      <td>0.943990</td>\n",
       "      <td>0.321094</td>\n",
       "      <td>0.609429</td>\n",
       "      <td>-0.058709</td>\n",
       "    </tr>\n",
       "    <tr>\n",
       "      <th>FeelsLikeC</th>\n",
       "      <td>0.816631</td>\n",
       "      <td>0.972693</td>\n",
       "      <td>0.934225</td>\n",
       "      <td>0.796918</td>\n",
       "      <td>0.783358</td>\n",
       "      <td>0.593601</td>\n",
       "      <td>-0.316769</td>\n",
       "      <td>-0.900993</td>\n",
       "      <td>0.734762</td>\n",
       "      <td>0.998681</td>\n",
       "      <td>0.878979</td>\n",
       "      <td>0.943990</td>\n",
       "      <td>1.000000</td>\n",
       "      <td>0.424928</td>\n",
       "      <td>0.718602</td>\n",
       "      <td>-0.067404</td>\n",
       "    </tr>\n",
       "    <tr>\n",
       "      <th>rainFall</th>\n",
       "      <td>0.268291</td>\n",
       "      <td>0.444601</td>\n",
       "      <td>0.424528</td>\n",
       "      <td>0.176593</td>\n",
       "      <td>0.159381</td>\n",
       "      <td>0.477358</td>\n",
       "      <td>-0.572457</td>\n",
       "      <td>-0.502659</td>\n",
       "      <td>0.703806</td>\n",
       "      <td>0.425756</td>\n",
       "      <td>0.478025</td>\n",
       "      <td>0.321094</td>\n",
       "      <td>0.424928</td>\n",
       "      <td>1.000000</td>\n",
       "      <td>0.588604</td>\n",
       "      <td>0.067671</td>\n",
       "    </tr>\n",
       "    <tr>\n",
       "      <th>rainDays</th>\n",
       "      <td>0.531454</td>\n",
       "      <td>0.724013</td>\n",
       "      <td>0.669351</td>\n",
       "      <td>0.613974</td>\n",
       "      <td>0.465248</td>\n",
       "      <td>0.634772</td>\n",
       "      <td>-0.545801</td>\n",
       "      <td>-0.762050</td>\n",
       "      <td>0.785223</td>\n",
       "      <td>0.718329</td>\n",
       "      <td>0.726421</td>\n",
       "      <td>0.609429</td>\n",
       "      <td>0.718602</td>\n",
       "      <td>0.588604</td>\n",
       "      <td>1.000000</td>\n",
       "      <td>0.028187</td>\n",
       "    </tr>\n",
       "    <tr>\n",
       "      <th>locations</th>\n",
       "      <td>0.053065</td>\n",
       "      <td>-0.098490</td>\n",
       "      <td>-0.045289</td>\n",
       "      <td>-0.026310</td>\n",
       "      <td>-0.064029</td>\n",
       "      <td>-0.104425</td>\n",
       "      <td>-0.019238</td>\n",
       "      <td>-0.013927</td>\n",
       "      <td>0.004089</td>\n",
       "      <td>-0.070189</td>\n",
       "      <td>-0.115218</td>\n",
       "      <td>-0.058709</td>\n",
       "      <td>-0.067404</td>\n",
       "      <td>0.067671</td>\n",
       "      <td>0.028187</td>\n",
       "      <td>1.000000</td>\n",
       "    </tr>\n",
       "  </tbody>\n",
       "</table>\n",
       "</div>"
      ],
      "text/plain": [
       "                 maxtempC  mintempC  avgtempC   sunHour   uvIndex  humidity  \\\n",
       "maxtempC         1.000000  0.797501  0.909098  0.774211  0.821890  0.205025   \n",
       "mintempC         0.797501  1.000000  0.954623  0.785732  0.795536  0.568866   \n",
       "avgtempC         0.909098  0.954623  1.000000  0.778998  0.838613  0.402897   \n",
       "sunHour          0.774211  0.785732  0.778998  1.000000  0.729958  0.411355   \n",
       "uvIndex          0.821890  0.795536  0.838613  0.729958  1.000000  0.213123   \n",
       "humidity         0.205025  0.568866  0.402897  0.411355  0.213123  1.000000   \n",
       "visibilityMiles -0.164733 -0.311691 -0.246397 -0.232959 -0.026906 -0.592411   \n",
       "pressure        -0.674420 -0.875864 -0.811171 -0.736360 -0.609243 -0.636538   \n",
       "cloudcover       0.490268  0.745291  0.673871  0.511181  0.367579  0.740321   \n",
       "HeatIndexC       0.808328  0.971363  0.929708  0.793423  0.780755  0.600097   \n",
       "DewPointC        0.559769  0.855579  0.738929  0.656132  0.567798  0.886743   \n",
       "WindChillC       0.910055  0.930556  0.954945  0.791034  0.853297  0.365065   \n",
       "FeelsLikeC       0.816631  0.972693  0.934225  0.796918  0.783358  0.593601   \n",
       "rainFall         0.268291  0.444601  0.424528  0.176593  0.159381  0.477358   \n",
       "rainDays         0.531454  0.724013  0.669351  0.613974  0.465248  0.634772   \n",
       "locations        0.053065 -0.098490 -0.045289 -0.026310 -0.064029 -0.104425   \n",
       "\n",
       "                 visibilityMiles  pressure  cloudcover  HeatIndexC  DewPointC  \\\n",
       "maxtempC               -0.164733 -0.674420    0.490268    0.808328   0.559769   \n",
       "mintempC               -0.311691 -0.875864    0.745291    0.971363   0.855579   \n",
       "avgtempC               -0.246397 -0.811171    0.673871    0.929708   0.738929   \n",
       "sunHour                -0.232959 -0.736360    0.511181    0.793423   0.656132   \n",
       "uvIndex                -0.026906 -0.609243    0.367579    0.780755   0.567798   \n",
       "humidity               -0.592411 -0.636538    0.740321    0.600097   0.886743   \n",
       "visibilityMiles         1.000000  0.451349   -0.658623   -0.317739  -0.464525   \n",
       "pressure                0.451349  1.000000   -0.832867   -0.902136  -0.824570   \n",
       "cloudcover             -0.658623 -0.832867    1.000000    0.735995   0.781837   \n",
       "HeatIndexC             -0.317739 -0.902136    0.735995    1.000000   0.883386   \n",
       "DewPointC              -0.464525 -0.824570    0.781837    0.883386   1.000000   \n",
       "WindChillC             -0.169855 -0.792339    0.575432    0.941055   0.735085   \n",
       "FeelsLikeC             -0.316769 -0.900993    0.734762    0.998681   0.878979   \n",
       "rainFall               -0.572457 -0.502659    0.703806    0.425756   0.478025   \n",
       "rainDays               -0.545801 -0.762050    0.785223    0.718329   0.726421   \n",
       "locations              -0.019238 -0.013927    0.004089   -0.070189  -0.115218   \n",
       "\n",
       "                 WindChillC  FeelsLikeC  rainFall  rainDays  locations  \n",
       "maxtempC           0.910055    0.816631  0.268291  0.531454   0.053065  \n",
       "mintempC           0.930556    0.972693  0.444601  0.724013  -0.098490  \n",
       "avgtempC           0.954945    0.934225  0.424528  0.669351  -0.045289  \n",
       "sunHour            0.791034    0.796918  0.176593  0.613974  -0.026310  \n",
       "uvIndex            0.853297    0.783358  0.159381  0.465248  -0.064029  \n",
       "humidity           0.365065    0.593601  0.477358  0.634772  -0.104425  \n",
       "visibilityMiles   -0.169855   -0.316769 -0.572457 -0.545801  -0.019238  \n",
       "pressure          -0.792339   -0.900993 -0.502659 -0.762050  -0.013927  \n",
       "cloudcover         0.575432    0.734762  0.703806  0.785223   0.004089  \n",
       "HeatIndexC         0.941055    0.998681  0.425756  0.718329  -0.070189  \n",
       "DewPointC          0.735085    0.878979  0.478025  0.726421  -0.115218  \n",
       "WindChillC         1.000000    0.943990  0.321094  0.609429  -0.058709  \n",
       "FeelsLikeC         0.943990    1.000000  0.424928  0.718602  -0.067404  \n",
       "rainFall           0.321094    0.424928  1.000000  0.588604   0.067671  \n",
       "rainDays           0.609429    0.718602  0.588604  1.000000   0.028187  \n",
       "locations         -0.058709   -0.067404  0.067671  0.028187   1.000000  "
      ]
     },
     "execution_count": 10,
     "metadata": {},
     "output_type": "execute_result"
    }
   ],
   "source": [
    "data.corr()"
   ]
  },
  {
   "cell_type": "code",
   "execution_count": 11,
   "metadata": {},
   "outputs": [],
   "source": [
    "import matplotlib.pyplot as plt"
   ]
  },
  {
   "cell_type": "code",
   "execution_count": 12,
   "metadata": {},
   "outputs": [],
   "source": [
    "scaler = MinMaxScaler(feature_range=[0, 1])\n",
    "data_rescaled = scaler.fit_transform(data)"
   ]
  },
  {
   "cell_type": "code",
   "execution_count": 13,
   "metadata": {},
   "outputs": [],
   "source": [
    "large = 22; med = 16; small = 12\n",
    "params = {'axes.titlesize': large,\n",
    "          'legend.fontsize': med,\n",
    "          'figure.figsize': (16, 10),\n",
    "          'axes.labelsize': med,\n",
    "          'axes.titlesize': med,\n",
    "          'xtick.labelsize': med,\n",
    "          'ytick.labelsize': med,\n",
    "          'figure.titlesize': large}\n",
    "plt.rcParams.update(params)\n",
    "plt.style.use('seaborn-darkgrid')\n",
    "%matplotlib inline"
   ]
  },
  {
   "cell_type": "code",
   "execution_count": 14,
   "metadata": {},
   "outputs": [
    {
     "data": {
      "image/png": "[encoded data removed]",
      "text/plain": [
       "<Figure size 1440x720 with 1 Axes>"
      ]
     },
     "metadata": {
      "needs_background": "light"
     },
     "output_type": "display_data"
    },
    {
     "data": {
      "text/plain": [
       "<Figure size 432x288 with 0 Axes>"
      ]
     },
     "metadata": {},
     "output_type": "display_data"
    }
   ],
   "source": [
    "pca = PCA().fit(data_rescaled)\n",
    "plt.figure(figsize=(20,10))\n",
    "plt.plot(np.cumsum(pca.explained_variance_ratio_))\n",
    "plt.xlabel('Number of Components',fontdict={'family': 'serif','weight': 'normal','size': 28})\n",
    "plt.ylabel('Variance (%)' , fontdict={'family': 'serif','weight': 'normal','size': 28}) #for each component\n",
    "plt.title('Dengue Dataset No. of Components vs Variance' , fontdict={'family': 'serif','weight': 'normal','size': 34})\n",
    "plt.show()\n",
    "\n",
    "plt.savefig('destination_path.eps', format='eps')"
   ]
  },
  {
   "cell_type": "code",
   "execution_count": 15,
   "metadata": {},
   "outputs": [
    {
     "data": {
      "text/plain": [
       "array([0.63302988, 0.76535782, 0.882474  , 0.91810669, 0.95155339,\n",
       "       0.96969941, 0.97935335, 0.98691043, 0.99141932, 0.99535534,\n",
       "       0.9973854 , 0.99831264, 0.99899793, 0.99949722, 0.99992221,\n",
       "       1.        ])"
      ]
     },
     "execution_count": 15,
     "metadata": {},
     "output_type": "execute_result"
    }
   ],
   "source": [
    "np.cumsum(pca.explained_variance_ratio_)"
   ]
  },
  {
   "cell_type": "code",
   "execution_count": 16,
   "metadata": {},
   "outputs": [],
   "source": [
    "pca = PCA(n_components=8)\n",
    "data_pca = pca.fit_transform(data_rescaled)"
   ]
  },
  {
   "cell_type": "code",
   "execution_count": 17,
   "metadata": {},
   "outputs": [],
   "source": [
    "labels = pd.read_excel('data_v7.xlsx',usecols=['label'])"
   ]
  },
  {
   "cell_type": "code",
   "execution_count": 18,
   "metadata": {},
   "outputs": [
    {
     "data": {
      "text/plain": [
       "(2562, 8)"
      ]
     },
     "execution_count": 18,
     "metadata": {},
     "output_type": "execute_result"
    }
   ],
   "source": [
    "data_pca.shape"
   ]
  },
  {
   "cell_type": "code",
   "execution_count": 19,
   "metadata": {},
   "outputs": [],
   "source": [
    "labels_pca = np.array(labels)"
   ]
  },
  {
   "cell_type": "code",
   "execution_count": 20,
   "metadata": {},
   "outputs": [
    {
     "data": {
      "text/plain": [
       "(2562, 1)"
      ]
     },
     "execution_count": 20,
     "metadata": {},
     "output_type": "execute_result"
    }
   ],
   "source": [
    "labels_pca.shape"
   ]
  },
  {
   "cell_type": "code",
   "execution_count": 21,
   "metadata": {},
   "outputs": [],
   "source": [
    "X,y = data_pca,labels_pca"
   ]
  },
  {
   "cell_type": "code",
   "execution_count": 22,
   "metadata": {},
   "outputs": [],
   "source": [
    "temp = pd.read_excel('additional.xlsx')"
   ]
  },
  {
   "cell_type": "code",
   "execution_count": 23,
   "metadata": {},
   "outputs": [
    {
     "data": {
      "text/html": [
       "<div>\n",
       "<style scoped>\n",
       "    .dataframe tbody tr th:only-of-type {\n",
       "        vertical-align: middle;\n",
       "    }\n",
       "\n",
       "    .dataframe tbody tr th {\n",
       "        vertical-align: top;\n",
       "    }\n",
       "\n",
       "    .dataframe thead th {\n",
       "        text-align: right;\n",
       "    }\n",
       "</style>\n",
       "<table border=\"1\" class=\"dataframe\">\n",
       "  <thead>\n",
       "    <tr style=\"text-align: right;\">\n",
       "      <th></th>\n",
       "      <th>locations_month</th>\n",
       "      <th>maxtempC</th>\n",
       "      <th>mintempC</th>\n",
       "      <th>avgtempC</th>\n",
       "      <th>sunHour</th>\n",
       "      <th>uvIndex</th>\n",
       "      <th>humidity</th>\n",
       "      <th>visibility</th>\n",
       "      <th>pressure</th>\n",
       "      <th>cloudcover</th>\n",
       "      <th>WindChillC</th>\n",
       "      <th>rainFall</th>\n",
       "      <th>rainDays</th>\n",
       "      <th>date</th>\n",
       "      <th>locations</th>\n",
       "      <th>locations.1</th>\n",
       "    </tr>\n",
       "  </thead>\n",
       "  <tbody>\n",
       "    <tr>\n",
       "      <th>0</th>\n",
       "      <td>maulvi bazar2019-9</td>\n",
       "      <td>31</td>\n",
       "      <td>23</td>\n",
       "      <td>28</td>\n",
       "      <td>147.0</td>\n",
       "      <td>7</td>\n",
       "      <td>86</td>\n",
       "      <td>8.3</td>\n",
       "      <td>1007.3</td>\n",
       "      <td>67</td>\n",
       "      <td>10.1</td>\n",
       "      <td>295.3</td>\n",
       "      <td>30</td>\n",
       "      <td>2019-9</td>\n",
       "      <td>NaN</td>\n",
       "      <td>NaN</td>\n",
       "    </tr>\n",
       "    <tr>\n",
       "      <th>1</th>\n",
       "      <td>maulvi bazar2019-8</td>\n",
       "      <td>33</td>\n",
       "      <td>25</td>\n",
       "      <td>30</td>\n",
       "      <td>193.0</td>\n",
       "      <td>5</td>\n",
       "      <td>86</td>\n",
       "      <td>7.5</td>\n",
       "      <td>1002.2</td>\n",
       "      <td>69</td>\n",
       "      <td>11.8</td>\n",
       "      <td>511.4</td>\n",
       "      <td>30</td>\n",
       "      <td>2019-8</td>\n",
       "      <td>NaN</td>\n",
       "      <td>NaN</td>\n",
       "    </tr>\n",
       "    <tr>\n",
       "      <th>2</th>\n",
       "      <td>Netrokona</td>\n",
       "      <td>31</td>\n",
       "      <td>24</td>\n",
       "      <td>29</td>\n",
       "      <td>150.0</td>\n",
       "      <td>5</td>\n",
       "      <td>50</td>\n",
       "      <td>8.8</td>\n",
       "      <td>1005.3</td>\n",
       "      <td>62</td>\n",
       "      <td>16.1</td>\n",
       "      <td>381.4</td>\n",
       "      <td>29</td>\n",
       "      <td>2019-9</td>\n",
       "      <td>Netrokona</td>\n",
       "      <td>Netrokona</td>\n",
       "    </tr>\n",
       "    <tr>\n",
       "      <th>3</th>\n",
       "      <td>Netrokona</td>\n",
       "      <td>34</td>\n",
       "      <td>31</td>\n",
       "      <td>27</td>\n",
       "      <td>178.5</td>\n",
       "      <td>7</td>\n",
       "      <td>77</td>\n",
       "      <td>9.0</td>\n",
       "      <td>1000.0</td>\n",
       "      <td>70</td>\n",
       "      <td>19.1</td>\n",
       "      <td>367.7</td>\n",
       "      <td>30</td>\n",
       "      <td>2019-8</td>\n",
       "      <td>Netrokona</td>\n",
       "      <td>Netrokona</td>\n",
       "    </tr>\n",
       "    <tr>\n",
       "      <th>4</th>\n",
       "      <td>Jhenai</td>\n",
       "      <td>31</td>\n",
       "      <td>25</td>\n",
       "      <td>29</td>\n",
       "      <td>120.5</td>\n",
       "      <td>5</td>\n",
       "      <td>80</td>\n",
       "      <td>8.5</td>\n",
       "      <td>1004.7</td>\n",
       "      <td>69</td>\n",
       "      <td>17.6</td>\n",
       "      <td>634.1</td>\n",
       "      <td>29</td>\n",
       "      <td>2019-9</td>\n",
       "      <td>Jhenai</td>\n",
       "      <td>Jhenai</td>\n",
       "    </tr>\n",
       "  </tbody>\n",
       "</table>\n",
       "</div>"
      ],
      "text/plain": [
       "      locations_month  maxtempC  mintempC  avgtempC  sunHour  uvIndex  \\\n",
       "0  maulvi bazar2019-9        31        23        28    147.0        7   \n",
       "1  maulvi bazar2019-8        33        25        30    193.0        5   \n",
       "2           Netrokona        31        24        29    150.0        5   \n",
       "3           Netrokona        34        31        27    178.5        7   \n",
       "4              Jhenai        31        25        29    120.5        5   \n",
       "\n",
       "   humidity  visibility  pressure  cloudcover  WindChillC  rainFall  rainDays  \\\n",
       "0        86         8.3    1007.3          67        10.1     295.3        30   \n",
       "1        86         7.5    1002.2          69        11.8     511.4        30   \n",
       "2        50         8.8    1005.3          62        16.1     381.4        29   \n",
       "3        77         9.0    1000.0          70        19.1     367.7        30   \n",
       "4        80         8.5    1004.7          69        17.6     634.1        29   \n",
       "\n",
       "     date  locations locations.1  \n",
       "0  2019-9        NaN         NaN  \n",
       "1  2019-8        NaN         NaN  \n",
       "2  2019-9  Netrokona   Netrokona  \n",
       "3  2019-8  Netrokona   Netrokona  \n",
       "4  2019-9     Jhenai      Jhenai  "
      ]
     },
     "execution_count": 23,
     "metadata": {},
     "output_type": "execute_result"
    }
   ],
   "source": [
    "temp.head()"
   ]
  },
  {
   "cell_type": "code",
   "execution_count": 24,
   "metadata": {},
   "outputs": [],
   "source": [
    "temp.drop(['locations_month','locations.1','locations','date','visibility'],axis=1,inplace=True)"
   ]
  },
  {
   "cell_type": "code",
   "execution_count": 25,
   "metadata": {},
   "outputs": [
    {
     "data": {
      "text/html": [
       "<div>\n",
       "<style scoped>\n",
       "    .dataframe tbody tr th:only-of-type {\n",
       "        vertical-align: middle;\n",
       "    }\n",
       "\n",
       "    .dataframe tbody tr th {\n",
       "        vertical-align: top;\n",
       "    }\n",
       "\n",
       "    .dataframe thead th {\n",
       "        text-align: right;\n",
       "    }\n",
       "</style>\n",
       "<table border=\"1\" class=\"dataframe\">\n",
       "  <thead>\n",
       "    <tr style=\"text-align: right;\">\n",
       "      <th></th>\n",
       "      <th>maxtempC</th>\n",
       "      <th>mintempC</th>\n",
       "      <th>avgtempC</th>\n",
       "      <th>sunHour</th>\n",
       "      <th>uvIndex</th>\n",
       "      <th>humidity</th>\n",
       "      <th>pressure</th>\n",
       "      <th>cloudcover</th>\n",
       "      <th>WindChillC</th>\n",
       "      <th>rainFall</th>\n",
       "      <th>rainDays</th>\n",
       "    </tr>\n",
       "  </thead>\n",
       "  <tbody>\n",
       "    <tr>\n",
       "      <th>0</th>\n",
       "      <td>31</td>\n",
       "      <td>23</td>\n",
       "      <td>28</td>\n",
       "      <td>147.0</td>\n",
       "      <td>7</td>\n",
       "      <td>86</td>\n",
       "      <td>1007.3</td>\n",
       "      <td>67</td>\n",
       "      <td>10.1</td>\n",
       "      <td>295.3</td>\n",
       "      <td>30</td>\n",
       "    </tr>\n",
       "    <tr>\n",
       "      <th>1</th>\n",
       "      <td>33</td>\n",
       "      <td>25</td>\n",
       "      <td>30</td>\n",
       "      <td>193.0</td>\n",
       "      <td>5</td>\n",
       "      <td>86</td>\n",
       "      <td>1002.2</td>\n",
       "      <td>69</td>\n",
       "      <td>11.8</td>\n",
       "      <td>511.4</td>\n",
       "      <td>30</td>\n",
       "    </tr>\n",
       "    <tr>\n",
       "      <th>2</th>\n",
       "      <td>31</td>\n",
       "      <td>24</td>\n",
       "      <td>29</td>\n",
       "      <td>150.0</td>\n",
       "      <td>5</td>\n",
       "      <td>50</td>\n",
       "      <td>1005.3</td>\n",
       "      <td>62</td>\n",
       "      <td>16.1</td>\n",
       "      <td>381.4</td>\n",
       "      <td>29</td>\n",
       "    </tr>\n",
       "    <tr>\n",
       "      <th>3</th>\n",
       "      <td>34</td>\n",
       "      <td>31</td>\n",
       "      <td>27</td>\n",
       "      <td>178.5</td>\n",
       "      <td>7</td>\n",
       "      <td>77</td>\n",
       "      <td>1000.0</td>\n",
       "      <td>70</td>\n",
       "      <td>19.1</td>\n",
       "      <td>367.7</td>\n",
       "      <td>30</td>\n",
       "    </tr>\n",
       "    <tr>\n",
       "      <th>4</th>\n",
       "      <td>31</td>\n",
       "      <td>25</td>\n",
       "      <td>29</td>\n",
       "      <td>120.5</td>\n",
       "      <td>5</td>\n",
       "      <td>80</td>\n",
       "      <td>1004.7</td>\n",
       "      <td>69</td>\n",
       "      <td>17.6</td>\n",
       "      <td>634.1</td>\n",
       "      <td>29</td>\n",
       "    </tr>\n",
       "  </tbody>\n",
       "</table>\n",
       "</div>"
      ],
      "text/plain": [
       "   maxtempC  mintempC  avgtempC  sunHour  uvIndex  humidity  pressure  \\\n",
       "0        31        23        28    147.0        7        86    1007.3   \n",
       "1        33        25        30    193.0        5        86    1002.2   \n",
       "2        31        24        29    150.0        5        50    1005.3   \n",
       "3        34        31        27    178.5        7        77    1000.0   \n",
       "4        31        25        29    120.5        5        80    1004.7   \n",
       "\n",
       "   cloudcover  WindChillC  rainFall  rainDays  \n",
       "0          67        10.1     295.3        30  \n",
       "1          69        11.8     511.4        30  \n",
       "2          62        16.1     381.4        29  \n",
       "3          70        19.1     367.7        30  \n",
       "4          69        17.6     634.1        29  "
      ]
     },
     "execution_count": 25,
     "metadata": {},
     "output_type": "execute_result"
    }
   ],
   "source": [
    "temp.head()"
   ]
  },
  {
   "cell_type": "code",
   "execution_count": 26,
   "metadata": {},
   "outputs": [],
   "source": [
    "scaler = MinMaxScaler(feature_range=[0, 1])\n",
    "temp_rescaled = scaler.fit_transform(temp)"
   ]
  },
  {
   "cell_type": "code",
   "execution_count": 27,
   "metadata": {},
   "outputs": [
    {
     "data": {
      "text/plain": [
       "array([0.46752916, 0.65995111, 0.81144537, 0.87628541, 0.93084475,\n",
       "       0.96345972, 0.98784346, 0.99700812, 0.99947906, 0.99999197,\n",
       "       1.        ])"
      ]
     },
     "execution_count": 27,
     "metadata": {},
     "output_type": "execute_result"
    },
    {
     "data": {
      "text/plain": [
       "<Figure size 1440x720 with 0 Axes>"
      ]
     },
     "metadata": {},
     "output_type": "display_data"
    }
   ],
   "source": [
    "pca = PCA().fit(temp_rescaled)\n",
    "plt.figure(figsize=(20,10))\n",
    "np.cumsum(pca.explained_variance_ratio_)"
   ]
  },
  {
   "cell_type": "code",
   "execution_count": null,
   "metadata": {},
   "outputs": [],
   "source": []
  },
  {
   "cell_type": "code",
   "execution_count": null,
   "metadata": {},
   "outputs": [],
   "source": []
  },
  {
   "cell_type": "code",
   "execution_count": null,
   "metadata": {},
   "outputs": [],
   "source": []
  },
  {
   "cell_type": "code",
   "execution_count": null,
   "metadata": {},
   "outputs": [],
   "source": []
  },
  {
   "cell_type": "code",
   "execution_count": 28,
   "metadata": {},
   "outputs": [
    {
     "name": "stderr",
     "output_type": "stream",
     "text": [
      "Using TensorFlow backend.\n",
      "c:\\users\\alvir\\deelearning\\lib\\site-packages\\sklearn\\utils\\validation.py:724: DataConversionWarning: A column-vector y was passed when a 1d array was expected. Please change the shape of y to (n_samples, ), for example using ravel().\n",
      "  y = column_or_1d(y, warn=True)\n"
     ]
    }
   ],
   "source": [
    "from imblearn.over_sampling import RandomOverSampler\n",
    "ros = RandomOverSampler(random_state=0)\n",
    "X_resampled, y_resampled = ros.fit_resample(X, y)"
   ]
  },
  {
   "cell_type": "code",
   "execution_count": 29,
   "metadata": {},
   "outputs": [],
   "source": [
    "X,y = X_resampled,y_resampled"
   ]
  },
  {
   "cell_type": "code",
   "execution_count": 30,
   "metadata": {},
   "outputs": [
    {
     "data": {
      "text/plain": [
       "(4730, 8)"
      ]
     },
     "execution_count": 30,
     "metadata": {},
     "output_type": "execute_result"
    }
   ],
   "source": [
    "X.shape"
   ]
  },
  {
   "cell_type": "code",
   "execution_count": 31,
   "metadata": {},
   "outputs": [
    {
     "data": {
      "text/plain": [
       "(4730,)"
      ]
     },
     "execution_count": 31,
     "metadata": {},
     "output_type": "execute_result"
    }
   ],
   "source": [
    "y.shape"
   ]
  },
  {
   "cell_type": "code",
   "execution_count": null,
   "metadata": {},
   "outputs": [],
   "source": []
  },
  {
   "cell_type": "code",
   "execution_count": 32,
   "metadata": {},
   "outputs": [],
   "source": [
    "from sklearn.model_selection import train_test_split"
   ]
  },
  {
   "cell_type": "code",
   "execution_count": 33,
   "metadata": {},
   "outputs": [],
   "source": [
    "X_train, X_test, y_train, y_test = train_test_split(X, y, test_size=0.3, random_state=101)"
   ]
  },
  {
   "cell_type": "code",
   "execution_count": 34,
   "metadata": {},
   "outputs": [],
   "source": [
    "from sklearn.linear_model import LogisticRegression"
   ]
  },
  {
   "cell_type": "code",
   "execution_count": 35,
   "metadata": {},
   "outputs": [],
   "source": [
    "lr = LogisticRegression()"
   ]
  },
  {
   "cell_type": "code",
   "execution_count": 36,
   "metadata": {},
   "outputs": [
    {
     "name": "stderr",
     "output_type": "stream",
     "text": [
      "c:\\users\\alvir\\deelearning\\lib\\site-packages\\sklearn\\linear_model\\logistic.py:432: FutureWarning: Default solver will be changed to 'lbfgs' in 0.22. Specify a solver to silence this warning.\n",
      "  FutureWarning)\n"
     ]
    },
    {
     "data": {
      "text/plain": [
       "LogisticRegression(C=1.0, class_weight=None, dual=False, fit_intercept=True,\n",
       "                   intercept_scaling=1, l1_ratio=None, max_iter=100,\n",
       "                   multi_class='warn', n_jobs=None, penalty='l2',\n",
       "                   random_state=None, solver='warn', tol=0.0001, verbose=0,\n",
       "                   warm_start=False)"
      ]
     },
     "execution_count": 36,
     "metadata": {},
     "output_type": "execute_result"
    }
   ],
   "source": [
    "lr.fit(X_train,y_train)"
   ]
  },
  {
   "cell_type": "code",
   "execution_count": 37,
   "metadata": {},
   "outputs": [],
   "source": [
    "lr_pred_test = lr.predict(X_test)"
   ]
  },
  {
   "cell_type": "code",
   "execution_count": 38,
   "metadata": {},
   "outputs": [],
   "source": [
    "lr_pred_train = lr.predict(X_train)"
   ]
  },
  {
   "cell_type": "code",
   "execution_count": 39,
   "metadata": {},
   "outputs": [],
   "source": [
    "from sklearn.metrics import classification_report"
   ]
  },
  {
   "cell_type": "code",
   "execution_count": 40,
   "metadata": {},
   "outputs": [
    {
     "name": "stdout",
     "output_type": "stream",
     "text": [
      "              precision    recall  f1-score   support\n",
      "\n",
      "           0       0.85      0.76      0.80       805\n",
      "           1       0.72      0.82      0.77       614\n",
      "\n",
      "    accuracy                           0.79      1419\n",
      "   macro avg       0.79      0.79      0.79      1419\n",
      "weighted avg       0.79      0.79      0.79      1419\n",
      "\n"
     ]
    }
   ],
   "source": [
    "print(classification_report(lr_pred_test,y_test))"
   ]
  },
  {
   "cell_type": "code",
   "execution_count": 41,
   "metadata": {},
   "outputs": [
    {
     "name": "stdout",
     "output_type": "stream",
     "text": [
      "              precision    recall  f1-score   support\n",
      "\n",
      "           0       0.86      0.75      0.80      1896\n",
      "           1       0.71      0.84      0.77      1415\n",
      "\n",
      "    accuracy                           0.78      3311\n",
      "   macro avg       0.78      0.79      0.78      3311\n",
      "weighted avg       0.80      0.78      0.79      3311\n",
      "\n"
     ]
    }
   ],
   "source": [
    "print(classification_report(lr_pred_train,y_train))"
   ]
  },
  {
   "cell_type": "code",
   "execution_count": 42,
   "metadata": {},
   "outputs": [],
   "source": [
    "from sklearn.metrics import confusion_matrix"
   ]
  },
  {
   "cell_type": "code",
   "execution_count": 43,
   "metadata": {},
   "outputs": [
    {
     "name": "stdout",
     "output_type": "stream",
     "text": [
      "[[611 109]\n",
      " [194 505]]\n"
     ]
    }
   ],
   "source": [
    "print(confusion_matrix(y_test,lr_pred_test))"
   ]
  },
  {
   "cell_type": "code",
   "execution_count": 44,
   "metadata": {},
   "outputs": [
    {
     "name": "stdout",
     "output_type": "stream",
     "text": [
      "[[1413  232]\n",
      " [ 483 1183]]\n"
     ]
    }
   ],
   "source": [
    "print(confusion_matrix(y_train,lr_pred_train))"
   ]
  },
  {
   "cell_type": "code",
   "execution_count": 45,
   "metadata": {},
   "outputs": [],
   "source": [
    "from sklearn.model_selection import GridSearchCV , RandomizedSearchCV"
   ]
  },
  {
   "cell_type": "code",
   "execution_count": 46,
   "metadata": {},
   "outputs": [],
   "source": [
    "from sklearn.linear_model import LogisticRegression"
   ]
  },
  {
   "cell_type": "code",
   "execution_count": null,
   "metadata": {},
   "outputs": [],
   "source": []
  },
  {
   "cell_type": "code",
   "execution_count": 47,
   "metadata": {},
   "outputs": [],
   "source": [
    "from sklearn.pipeline import Pipeline"
   ]
  },
  {
   "cell_type": "code",
   "execution_count": 50,
   "metadata": {},
   "outputs": [
    {
     "name": "stdout",
     "output_type": "stream",
     "text": [
      "Fitting 5 folds for each of 40 candidates, totalling 200 fits\n"
     ]
    },
    {
     "name": "stderr",
     "output_type": "stream",
     "text": [
      "[Parallel(n_jobs=-1)]: Using backend LokyBackend with 4 concurrent workers.\n",
      "[Parallel(n_jobs=-1)]: Done  88 tasks      | elapsed:    1.2s\n",
      "[Parallel(n_jobs=-1)]: Done 200 out of 200 | elapsed:    1.3s finished\n"
     ]
    }
   ],
   "source": [
    "\n",
    "\n",
    "param_grid ={'penalty' : ['l1', 'l2'],\n",
    "    'C' : np.logspace(-4, 4, 20),\n",
    "    'solver' : ['liblinear']}\n",
    "\n",
    "# Create grid search object\n",
    "\n",
    "clf = GridSearchCV(estimator=LogisticRegression() , param_grid = param_grid, cv = 5, verbose=True, n_jobs=-1)\n",
    "\n",
    "# Fit on data\n",
    "\n",
    "best_clf = clf.fit(X_train, y_train)"
   ]
  },
  {
   "cell_type": "code",
   "execution_count": 51,
   "metadata": {},
   "outputs": [],
   "source": [
    "tuned_lr_pred_test = best_clf.predict(X_test)"
   ]
  },
  {
   "cell_type": "code",
   "execution_count": 52,
   "metadata": {},
   "outputs": [],
   "source": [
    "tuned_lr_pred_train = best_clf.predict(X_train)"
   ]
  },
  {
   "cell_type": "code",
   "execution_count": 53,
   "metadata": {},
   "outputs": [
    {
     "name": "stdout",
     "output_type": "stream",
     "text": [
      "              precision    recall  f1-score   support\n",
      "\n",
      "           0       0.75      0.85      0.80       720\n",
      "           1       0.82      0.72      0.76       699\n",
      "\n",
      "    accuracy                           0.78      1419\n",
      "   macro avg       0.79      0.78      0.78      1419\n",
      "weighted avg       0.79      0.78      0.78      1419\n",
      "\n"
     ]
    }
   ],
   "source": [
    "print(classification_report(y_test,tuned_lr_pred_test))"
   ]
  },
  {
   "cell_type": "code",
   "execution_count": 54,
   "metadata": {},
   "outputs": [
    {
     "name": "stdout",
     "output_type": "stream",
     "text": [
      "              precision    recall  f1-score   support\n",
      "\n",
      "           0       0.75      0.86      0.80      1645\n",
      "           1       0.83      0.71      0.77      1666\n",
      "\n",
      "    accuracy                           0.78      3311\n",
      "   macro avg       0.79      0.78      0.78      3311\n",
      "weighted avg       0.79      0.78      0.78      3311\n",
      "\n"
     ]
    }
   ],
   "source": [
    "print(classification_report(y_train,tuned_lr_pred_train))"
   ]
  },
  {
   "cell_type": "code",
   "execution_count": 55,
   "metadata": {},
   "outputs": [
    {
     "name": "stdout",
     "output_type": "stream",
     "text": [
      "[[611 109]\n",
      " [199 500]]\n"
     ]
    }
   ],
   "source": [
    "print(confusion_matrix(y_test,tuned_lr_pred_test))"
   ]
  },
  {
   "cell_type": "code",
   "execution_count": 56,
   "metadata": {},
   "outputs": [
    {
     "name": "stdout",
     "output_type": "stream",
     "text": [
      "[[1410  235]\n",
      " [ 479 1187]]\n"
     ]
    }
   ],
   "source": [
    "print(confusion_matrix(y_train,tuned_lr_pred_train))"
   ]
  },
  {
   "cell_type": "code",
   "execution_count": 57,
   "metadata": {},
   "outputs": [],
   "source": [
    "from sklearn.ensemble import RandomForestClassifier"
   ]
  },
  {
   "cell_type": "code",
   "execution_count": 58,
   "metadata": {},
   "outputs": [],
   "source": [
    "rfc = RandomForestClassifier()"
   ]
  },
  {
   "cell_type": "code",
   "execution_count": 59,
   "metadata": {},
   "outputs": [
    {
     "name": "stderr",
     "output_type": "stream",
     "text": [
      "c:\\users\\alvir\\deelearning\\lib\\site-packages\\sklearn\\ensemble\\forest.py:245: FutureWarning: The default value of n_estimators will change from 10 in version 0.20 to 100 in 0.22.\n",
      "  \"10 in version 0.20 to 100 in 0.22.\", FutureWarning)\n"
     ]
    },
    {
     "data": {
      "text/plain": [
       "RandomForestClassifier(bootstrap=True, class_weight=None, criterion='gini',\n",
       "                       max_depth=None, max_features='auto', max_leaf_nodes=None,\n",
       "                       min_impurity_decrease=0.0, min_impurity_split=None,\n",
       "                       min_samples_leaf=1, min_samples_split=2,\n",
       "                       min_weight_fraction_leaf=0.0, n_estimators=10,\n",
       "                       n_jobs=None, oob_score=False, random_state=None,\n",
       "                       verbose=0, warm_start=False)"
      ]
     },
     "execution_count": 59,
     "metadata": {},
     "output_type": "execute_result"
    }
   ],
   "source": [
    "rfc.fit(X_train,y_train)"
   ]
  },
  {
   "cell_type": "code",
   "execution_count": 60,
   "metadata": {},
   "outputs": [],
   "source": [
    "rfc_pred_train = rfc.predict(X_train)"
   ]
  },
  {
   "cell_type": "code",
   "execution_count": 61,
   "metadata": {},
   "outputs": [],
   "source": [
    "rfc_pred_test = rfc.predict(X_test)"
   ]
  },
  {
   "cell_type": "code",
   "execution_count": 62,
   "metadata": {},
   "outputs": [
    {
     "name": "stdout",
     "output_type": "stream",
     "text": [
      "              precision    recall  f1-score   support\n",
      "\n",
      "           0       0.98      1.00      0.99       707\n",
      "           1       1.00      0.98      0.99       712\n",
      "\n",
      "    accuracy                           0.99      1419\n",
      "   macro avg       0.99      0.99      0.99      1419\n",
      "weighted avg       0.99      0.99      0.99      1419\n",
      "\n"
     ]
    }
   ],
   "source": [
    "print(classification_report(rfc_pred_test,y_test))"
   ]
  },
  {
   "cell_type": "code",
   "execution_count": 63,
   "metadata": {},
   "outputs": [
    {
     "name": "stdout",
     "output_type": "stream",
     "text": [
      "              precision    recall  f1-score   support\n",
      "\n",
      "           0       1.00      1.00      1.00      1645\n",
      "           1       1.00      1.00      1.00      1666\n",
      "\n",
      "    accuracy                           1.00      3311\n",
      "   macro avg       1.00      1.00      1.00      3311\n",
      "weighted avg       1.00      1.00      1.00      3311\n",
      "\n"
     ]
    }
   ],
   "source": [
    "print(classification_report(rfc_pred_train,y_train))"
   ]
  },
  {
   "cell_type": "code",
   "execution_count": 64,
   "metadata": {},
   "outputs": [
    {
     "name": "stdout",
     "output_type": "stream",
     "text": [
      "[[707   0]\n",
      " [ 13 699]]\n"
     ]
    }
   ],
   "source": [
    "print(confusion_matrix(rfc_pred_test,y_test))"
   ]
  },
  {
   "cell_type": "code",
   "execution_count": 65,
   "metadata": {},
   "outputs": [
    {
     "name": "stdout",
     "output_type": "stream",
     "text": [
      "[[1645    0]\n",
      " [   0 1666]]\n"
     ]
    }
   ],
   "source": [
    "print(confusion_matrix(rfc_pred_train,y_train))"
   ]
  },
  {
   "cell_type": "code",
   "execution_count": null,
   "metadata": {},
   "outputs": [],
   "source": []
  },
  {
   "cell_type": "code",
   "execution_count": null,
   "metadata": {},
   "outputs": [],
   "source": []
  },
  {
   "cell_type": "code",
   "execution_count": 67,
   "metadata": {},
   "outputs": [],
   "source": [
    "df = pd.DataFrame(data_pca,columns=['c1','c2','c3','c4','c5','c6','c7','c8'])"
   ]
  },
  {
   "cell_type": "code",
   "execution_count": 86,
   "metadata": {},
   "outputs": [
    {
     "data": {
      "text/plain": [
       "DecisionTreeClassifier(class_weight=None, criterion='gini', max_depth=None,\n",
       "                       max_features='auto', max_leaf_nodes=None,\n",
       "                       min_impurity_decrease=0.0, min_impurity_split=None,\n",
       "                       min_samples_leaf=1, min_samples_split=2,\n",
       "                       min_weight_fraction_leaf=0.0, presort=False,\n",
       "                       random_state=542078391, splitter='best')"
      ]
     },
     "execution_count": 86,
     "metadata": {},
     "output_type": "execute_result"
    }
   ],
   "source": [
    "rfc.estimators_[5]"
   ]
  },
  {
   "cell_type": "code",
   "execution_count": 85,
   "metadata": {},
   "outputs": [
    {
     "ename": "IndexError",
     "evalue": "index 1 is out of bounds for axis 0 with size 1",
     "output_type": "error",
     "traceback": [
      "\u001b[1;31m---------------------------------------------------------------------------\u001b[0m",
      "\u001b[1;31mIndexError\u001b[0m                                Traceback (most recent call last)",
      "\u001b[1;32m<ipython-input-85-375778fc9185>\u001b[0m in \u001b[0;36m<module>\u001b[1;34m\u001b[0m\n\u001b[0;32m      5\u001b[0m                 \u001b[0mclass_names\u001b[0m \u001b[1;33m=\u001b[0m \u001b[0mlabels\u001b[0m\u001b[1;33m.\u001b[0m\u001b[0mcolumns\u001b[0m\u001b[1;33m,\u001b[0m\u001b[1;33m\u001b[0m\u001b[1;33m\u001b[0m\u001b[0m\n\u001b[0;32m      6\u001b[0m                 \u001b[0mrounded\u001b[0m \u001b[1;33m=\u001b[0m \u001b[1;32mTrue\u001b[0m\u001b[1;33m,\u001b[0m \u001b[0mproportion\u001b[0m \u001b[1;33m=\u001b[0m \u001b[1;32mFalse\u001b[0m\u001b[1;33m,\u001b[0m\u001b[1;33m\u001b[0m\u001b[1;33m\u001b[0m\u001b[0m\n\u001b[1;32m----> 7\u001b[1;33m                 precision = 1, filled = True)\n\u001b[0m\u001b[0;32m      8\u001b[0m \u001b[1;33m\u001b[0m\u001b[0m\n\u001b[0;32m      9\u001b[0m \u001b[1;32mfrom\u001b[0m \u001b[0msubprocess\u001b[0m \u001b[1;32mimport\u001b[0m \u001b[0mcall\u001b[0m\u001b[1;33m\u001b[0m\u001b[1;33m\u001b[0m\u001b[0m\n",
      "\u001b[1;32mc:\\users\\alvir\\deelearning\\lib\\site-packages\\sklearn\\tree\\export.py\u001b[0m in \u001b[0;36mexport_graphviz\u001b[1;34m(decision_tree, out_file, max_depth, feature_names, class_names, label, filled, leaves_parallel, impurity, node_ids, proportion, rotate, rounded, special_characters, precision)\u001b[0m\n\u001b[0;32m    774\u001b[0m             \u001b[0mrounded\u001b[0m\u001b[1;33m=\u001b[0m\u001b[0mrounded\u001b[0m\u001b[1;33m,\u001b[0m \u001b[0mspecial_characters\u001b[0m\u001b[1;33m=\u001b[0m\u001b[0mspecial_characters\u001b[0m\u001b[1;33m,\u001b[0m\u001b[1;33m\u001b[0m\u001b[1;33m\u001b[0m\u001b[0m\n\u001b[0;32m    775\u001b[0m             precision=precision)\n\u001b[1;32m--> 776\u001b[1;33m         \u001b[0mexporter\u001b[0m\u001b[1;33m.\u001b[0m\u001b[0mexport\u001b[0m\u001b[1;33m(\u001b[0m\u001b[0mdecision_tree\u001b[0m\u001b[1;33m)\u001b[0m\u001b[1;33m\u001b[0m\u001b[1;33m\u001b[0m\u001b[0m\n\u001b[0m\u001b[0;32m    777\u001b[0m \u001b[1;33m\u001b[0m\u001b[0m\n\u001b[0;32m    778\u001b[0m         \u001b[1;32mif\u001b[0m \u001b[0mreturn_string\u001b[0m\u001b[1;33m:\u001b[0m\u001b[1;33m\u001b[0m\u001b[1;33m\u001b[0m\u001b[0m\n",
      "\u001b[1;32mc:\\users\\alvir\\deelearning\\lib\\site-packages\\sklearn\\tree\\export.py\u001b[0m in \u001b[0;36mexport\u001b[1;34m(self, decision_tree)\u001b[0m\n\u001b[0;32m    407\u001b[0m         \u001b[1;32melse\u001b[0m\u001b[1;33m:\u001b[0m\u001b[1;33m\u001b[0m\u001b[1;33m\u001b[0m\u001b[0m\n\u001b[0;32m    408\u001b[0m             self.recurse(decision_tree.tree_, 0,\n\u001b[1;32m--> 409\u001b[1;33m                          criterion=decision_tree.criterion)\n\u001b[0m\u001b[0;32m    410\u001b[0m \u001b[1;33m\u001b[0m\u001b[0m\n\u001b[0;32m    411\u001b[0m         \u001b[0mself\u001b[0m\u001b[1;33m.\u001b[0m\u001b[0mtail\u001b[0m\u001b[1;33m(\u001b[0m\u001b[1;33m)\u001b[0m\u001b[1;33m\u001b[0m\u001b[1;33m\u001b[0m\u001b[0m\n",
      "\u001b[1;32mc:\\users\\alvir\\deelearning\\lib\\site-packages\\sklearn\\tree\\export.py\u001b[0m in \u001b[0;36mrecurse\u001b[1;34m(self, tree, node_id, criterion, parent, depth)\u001b[0m\n\u001b[0;32m    467\u001b[0m             self.out_file.write(\n\u001b[0;32m    468\u001b[0m                 '%d [label=%s' % (node_id, self.node_to_str(tree, node_id,\n\u001b[1;32m--> 469\u001b[1;33m                                                             criterion)))\n\u001b[0m\u001b[0;32m    470\u001b[0m \u001b[1;33m\u001b[0m\u001b[0m\n\u001b[0;32m    471\u001b[0m             \u001b[1;32mif\u001b[0m \u001b[0mself\u001b[0m\u001b[1;33m.\u001b[0m\u001b[0mfilled\u001b[0m\u001b[1;33m:\u001b[0m\u001b[1;33m\u001b[0m\u001b[1;33m\u001b[0m\u001b[0m\n",
      "\u001b[1;32mc:\\users\\alvir\\deelearning\\lib\\site-packages\\sklearn\\tree\\export.py\u001b[0m in \u001b[0;36mnode_to_str\u001b[1;34m(self, tree, node_id, criterion)\u001b[0m\n\u001b[0;32m    337\u001b[0m                 \u001b[0mnode_string\u001b[0m \u001b[1;33m+=\u001b[0m \u001b[1;34m'class = '\u001b[0m\u001b[1;33m\u001b[0m\u001b[1;33m\u001b[0m\u001b[0m\n\u001b[0;32m    338\u001b[0m             \u001b[1;32mif\u001b[0m \u001b[0mself\u001b[0m\u001b[1;33m.\u001b[0m\u001b[0mclass_names\u001b[0m \u001b[1;32mis\u001b[0m \u001b[1;32mnot\u001b[0m \u001b[1;32mTrue\u001b[0m\u001b[1;33m:\u001b[0m\u001b[1;33m\u001b[0m\u001b[1;33m\u001b[0m\u001b[0m\n\u001b[1;32m--> 339\u001b[1;33m                 \u001b[0mclass_name\u001b[0m \u001b[1;33m=\u001b[0m \u001b[0mself\u001b[0m\u001b[1;33m.\u001b[0m\u001b[0mclass_names\u001b[0m\u001b[1;33m[\u001b[0m\u001b[0mnp\u001b[0m\u001b[1;33m.\u001b[0m\u001b[0margmax\u001b[0m\u001b[1;33m(\u001b[0m\u001b[0mvalue\u001b[0m\u001b[1;33m)\u001b[0m\u001b[1;33m]\u001b[0m\u001b[1;33m\u001b[0m\u001b[1;33m\u001b[0m\u001b[0m\n\u001b[0m\u001b[0;32m    340\u001b[0m             \u001b[1;32melse\u001b[0m\u001b[1;33m:\u001b[0m\u001b[1;33m\u001b[0m\u001b[1;33m\u001b[0m\u001b[0m\n\u001b[0;32m    341\u001b[0m                 class_name = \"y%s%s%s\" % (characters[1],\n",
      "\u001b[1;32mc:\\users\\alvir\\deelearning\\lib\\site-packages\\pandas\\core\\indexes\\base.py\u001b[0m in \u001b[0;36m__getitem__\u001b[1;34m(self, key)\u001b[0m\n\u001b[0;32m   4278\u001b[0m         \u001b[1;32mif\u001b[0m \u001b[0mis_scalar\u001b[0m\u001b[1;33m(\u001b[0m\u001b[0mkey\u001b[0m\u001b[1;33m)\u001b[0m\u001b[1;33m:\u001b[0m\u001b[1;33m\u001b[0m\u001b[1;33m\u001b[0m\u001b[0m\n\u001b[0;32m   4279\u001b[0m             \u001b[0mkey\u001b[0m \u001b[1;33m=\u001b[0m \u001b[0mcom\u001b[0m\u001b[1;33m.\u001b[0m\u001b[0mcast_scalar_indexer\u001b[0m\u001b[1;33m(\u001b[0m\u001b[0mkey\u001b[0m\u001b[1;33m)\u001b[0m\u001b[1;33m\u001b[0m\u001b[1;33m\u001b[0m\u001b[0m\n\u001b[1;32m-> 4280\u001b[1;33m             \u001b[1;32mreturn\u001b[0m \u001b[0mgetitem\u001b[0m\u001b[1;33m(\u001b[0m\u001b[0mkey\u001b[0m\u001b[1;33m)\u001b[0m\u001b[1;33m\u001b[0m\u001b[1;33m\u001b[0m\u001b[0m\n\u001b[0m\u001b[0;32m   4281\u001b[0m \u001b[1;33m\u001b[0m\u001b[0m\n\u001b[0;32m   4282\u001b[0m         \u001b[1;32mif\u001b[0m \u001b[0misinstance\u001b[0m\u001b[1;33m(\u001b[0m\u001b[0mkey\u001b[0m\u001b[1;33m,\u001b[0m \u001b[0mslice\u001b[0m\u001b[1;33m)\u001b[0m\u001b[1;33m:\u001b[0m\u001b[1;33m\u001b[0m\u001b[1;33m\u001b[0m\u001b[0m\n",
      "\u001b[1;31mIndexError\u001b[0m: index 1 is out of bounds for axis 0 with size 1"
     ]
    }
   ],
   "source": [
    "from sklearn.tree import export_graphviz\n",
    "# Export as dot file\n",
    "export_graphviz(rfc.estimators_[5], out_file='tree.dot', \n",
    "                feature_names = df.columns,\n",
    "                class_names = labels.columns,\n",
    "                rounded = True, proportion = False, \n",
    "                precision = 2, filled = True)\n",
    "\n",
    "from subprocess import call\n",
    "call(['dot', '-Tpng', 'tree.dot', '-o', 'tree.png', '-Gdpi=600'])\n",
    "\n",
    "# Display in jupyter notebook\n",
    "from IPython.display import Image\n",
    "Image(filename = 'tree.png')"
   ]
  },
  {
   "cell_type": "code",
   "execution_count": 63,
   "metadata": {},
   "outputs": [],
   "source": [
    "param_grid = { \n",
    "    'n_estimators': [200, 500],\n",
    "    'max_features': ['auto', 'sqrt', 'log2'],\n",
    "    'max_depth' : [4,5,6,7,8],\n",
    "    'criterion' :['gini', 'entropy']\n",
    "}"
   ]
  },
  {
   "cell_type": "code",
   "execution_count": 64,
   "metadata": {},
   "outputs": [
    {
     "data": {
      "text/plain": [
       "GridSearchCV(cv=3, error_score='raise-deprecating',\n",
       "             estimator=RandomForestClassifier(bootstrap=True, class_weight=None,\n",
       "                                              criterion='gini', max_depth=None,\n",
       "                                              max_features='auto',\n",
       "                                              max_leaf_nodes=None,\n",
       "                                              min_impurity_decrease=0.0,\n",
       "                                              min_impurity_split=None,\n",
       "                                              min_samples_leaf=1,\n",
       "                                              min_samples_split=2,\n",
       "                                              min_weight_fraction_leaf=0.0,\n",
       "                                              n_estimators=10, n_jobs=None,\n",
       "                                              oob_score=False,\n",
       "                                              random_state=None, verbose=0,\n",
       "                                              warm_start=False),\n",
       "             iid='warn', n_jobs=None,\n",
       "             param_grid={'criterion': ['gini', 'entropy'],\n",
       "                         'max_depth': [4, 5, 6, 7, 8],\n",
       "                         'max_features': ['auto', 'sqrt', 'log2'],\n",
       "                         'n_estimators': [200, 500]},\n",
       "             pre_dispatch='2*n_jobs', refit=True, return_train_score=False,\n",
       "             scoring=None, verbose=0)"
      ]
     },
     "execution_count": 64,
     "metadata": {},
     "output_type": "execute_result"
    }
   ],
   "source": [
    "CV_rfc = GridSearchCV(estimator=rfc, param_grid=param_grid, cv= 3)\n",
    "CV_rfc.fit(X_train, y_train)"
   ]
  },
  {
   "cell_type": "code",
   "execution_count": 65,
   "metadata": {},
   "outputs": [
    {
     "data": {
      "text/plain": [
       "{'criterion': 'entropy',\n",
       " 'max_depth': 8,\n",
       " 'max_features': 'log2',\n",
       " 'n_estimators': 500}"
      ]
     },
     "execution_count": 65,
     "metadata": {},
     "output_type": "execute_result"
    }
   ],
   "source": [
    "CV_rfc.best_params_"
   ]
  },
  {
   "cell_type": "code",
   "execution_count": 66,
   "metadata": {},
   "outputs": [],
   "source": [
    "tuned_rfc=RandomForestClassifier(random_state=101, max_features='log2', n_estimators= 500, max_depth=8, criterion='entropy')"
   ]
  },
  {
   "cell_type": "code",
   "execution_count": 67,
   "metadata": {},
   "outputs": [
    {
     "data": {
      "text/plain": [
       "RandomForestClassifier(bootstrap=True, class_weight=None, criterion='entropy',\n",
       "                       max_depth=8, max_features='log2', max_leaf_nodes=None,\n",
       "                       min_impurity_decrease=0.0, min_impurity_split=None,\n",
       "                       min_samples_leaf=1, min_samples_split=2,\n",
       "                       min_weight_fraction_leaf=0.0, n_estimators=500,\n",
       "                       n_jobs=None, oob_score=False, random_state=101,\n",
       "                       verbose=0, warm_start=False)"
      ]
     },
     "execution_count": 67,
     "metadata": {},
     "output_type": "execute_result"
    }
   ],
   "source": [
    "tuned_rfc.fit(X_train,y_train)"
   ]
  },
  {
   "cell_type": "code",
   "execution_count": 68,
   "metadata": {},
   "outputs": [],
   "source": [
    "tuned_rfc_pred_test = tuned_rfc.predict(X_test)"
   ]
  },
  {
   "cell_type": "code",
   "execution_count": 69,
   "metadata": {},
   "outputs": [],
   "source": [
    "tuned_rfc_pred_train = tuned_rfc.predict(X_train)"
   ]
  },
  {
   "cell_type": "code",
   "execution_count": 70,
   "metadata": {},
   "outputs": [
    {
     "name": "stdout",
     "output_type": "stream",
     "text": [
      "              precision    recall  f1-score   support\n",
      "\n",
      "           0       0.97      0.99      0.98       704\n",
      "           1       0.99      0.97      0.98       715\n",
      "\n",
      "    accuracy                           0.98      1419\n",
      "   macro avg       0.98      0.98      0.98      1419\n",
      "weighted avg       0.98      0.98      0.98      1419\n",
      "\n"
     ]
    }
   ],
   "source": [
    "print(classification_report(tuned_rfc_pred_test,y_test))"
   ]
  },
  {
   "cell_type": "code",
   "execution_count": 71,
   "metadata": {},
   "outputs": [
    {
     "name": "stdout",
     "output_type": "stream",
     "text": [
      "              precision    recall  f1-score   support\n",
      "\n",
      "           0       0.99      1.00      0.99      1629\n",
      "           1       1.00      0.99      0.99      1682\n",
      "\n",
      "    accuracy                           0.99      3311\n",
      "   macro avg       0.99      0.99      0.99      3311\n",
      "weighted avg       0.99      0.99      0.99      3311\n",
      "\n"
     ]
    }
   ],
   "source": [
    "print(classification_report(tuned_rfc_pred_train,y_train))"
   ]
  },
  {
   "cell_type": "code",
   "execution_count": 72,
   "metadata": {},
   "outputs": [
    {
     "name": "stdout",
     "output_type": "stream",
     "text": [
      "[[1623    6]\n",
      " [  22 1660]]\n"
     ]
    }
   ],
   "source": [
    "print(confusion_matrix(tuned_rfc_pred_train,y_train))"
   ]
  },
  {
   "cell_type": "code",
   "execution_count": 73,
   "metadata": {},
   "outputs": [
    {
     "name": "stdout",
     "output_type": "stream",
     "text": [
      "[[700   4]\n",
      " [ 20 695]]\n"
     ]
    }
   ],
   "source": [
    "print(confusion_matrix(tuned_rfc_pred_test,y_test))"
   ]
  },
  {
   "cell_type": "code",
   "execution_count": 74,
   "metadata": {},
   "outputs": [],
   "source": [
    "from sklearn.svm import SVC"
   ]
  },
  {
   "cell_type": "code",
   "execution_count": 75,
   "metadata": {},
   "outputs": [],
   "source": [
    "svc = SVC()"
   ]
  },
  {
   "cell_type": "code",
   "execution_count": 76,
   "metadata": {},
   "outputs": [
    {
     "name": "stderr",
     "output_type": "stream",
     "text": [
      "c:\\users\\alvir\\deelearning\\lib\\site-packages\\sklearn\\svm\\base.py:193: FutureWarning: The default value of gamma will change from 'auto' to 'scale' in version 0.22 to account better for unscaled features. Set gamma explicitly to 'auto' or 'scale' to avoid this warning.\n",
      "  \"avoid this warning.\", FutureWarning)\n"
     ]
    },
    {
     "data": {
      "text/plain": [
       "SVC(C=1.0, cache_size=200, class_weight=None, coef0=0.0,\n",
       "    decision_function_shape='ovr', degree=3, gamma='auto_deprecated',\n",
       "    kernel='rbf', max_iter=-1, probability=False, random_state=None,\n",
       "    shrinking=True, tol=0.001, verbose=False)"
      ]
     },
     "execution_count": 76,
     "metadata": {},
     "output_type": "execute_result"
    }
   ],
   "source": [
    "svc.fit(X_train,y_train)"
   ]
  },
  {
   "cell_type": "code",
   "execution_count": 77,
   "metadata": {},
   "outputs": [],
   "source": [
    "svc_pred_train = svc.predict(X_train)"
   ]
  },
  {
   "cell_type": "code",
   "execution_count": 78,
   "metadata": {},
   "outputs": [],
   "source": [
    "svc_pred_test = svc.predict(X_test)"
   ]
  },
  {
   "cell_type": "code",
   "execution_count": 79,
   "metadata": {},
   "outputs": [
    {
     "name": "stdout",
     "output_type": "stream",
     "text": [
      "              precision    recall  f1-score   support\n",
      "\n",
      "           0       0.92      0.72      0.81       912\n",
      "           1       0.64      0.88      0.74       507\n",
      "\n",
      "    accuracy                           0.78      1419\n",
      "   macro avg       0.78      0.80      0.78      1419\n",
      "weighted avg       0.82      0.78      0.78      1419\n",
      "\n"
     ]
    }
   ],
   "source": [
    "print(classification_report(svc_pred_test,y_test))"
   ]
  },
  {
   "cell_type": "code",
   "execution_count": 80,
   "metadata": {},
   "outputs": [
    {
     "name": "stdout",
     "output_type": "stream",
     "text": [
      "              precision    recall  f1-score   support\n",
      "\n",
      "           0       0.93      0.71      0.81      2146\n",
      "           1       0.63      0.90      0.74      1165\n",
      "\n",
      "    accuracy                           0.78      3311\n",
      "   macro avg       0.78      0.81      0.77      3311\n",
      "weighted avg       0.82      0.78      0.78      3311\n",
      "\n"
     ]
    }
   ],
   "source": [
    "print(classification_report(svc_pred_train,y_train))"
   ]
  },
  {
   "cell_type": "code",
   "execution_count": 81,
   "metadata": {},
   "outputs": [
    {
     "name": "stdout",
     "output_type": "stream",
     "text": [
      "[[660 252]\n",
      " [ 60 447]]\n"
     ]
    }
   ],
   "source": [
    "print(confusion_matrix(svc_pred_test,y_test))"
   ]
  },
  {
   "cell_type": "code",
   "execution_count": 82,
   "metadata": {},
   "outputs": [
    {
     "name": "stdout",
     "output_type": "stream",
     "text": [
      "[[1527  619]\n",
      " [ 118 1047]]\n"
     ]
    }
   ],
   "source": [
    "print(confusion_matrix(svc_pred_train,y_train))"
   ]
  },
  {
   "cell_type": "code",
   "execution_count": 83,
   "metadata": {},
   "outputs": [],
   "source": [
    "param_grid = {'C':[0.1,1,10,100,1000],'gamma':[10,1,0.1,0.001,0.0001], 'kernel':['linear','rbf']}"
   ]
  },
  {
   "cell_type": "code",
   "execution_count": 84,
   "metadata": {},
   "outputs": [],
   "source": [
    "grid = GridSearchCV(SVC(),param_grid,refit = True, verbose=2)"
   ]
  },
  {
   "cell_type": "code",
   "execution_count": 85,
   "metadata": {},
   "outputs": [
    {
     "name": "stderr",
     "output_type": "stream",
     "text": [
      "c:\\users\\alvir\\deelearning\\lib\\site-packages\\sklearn\\model_selection\\_split.py:1978: FutureWarning: The default value of cv will change from 3 to 5 in version 0.22. Specify it explicitly to silence this warning.\n",
      "  warnings.warn(CV_WARNING, FutureWarning)\n",
      "[Parallel(n_jobs=1)]: Using backend SequentialBackend with 1 concurrent workers.\n",
      "[Parallel(n_jobs=1)]: Done   1 out of   1 | elapsed:    0.0s remaining:    0.0s\n"
     ]
    },
    {
     "name": "stdout",
     "output_type": "stream",
     "text": [
      "Fitting 3 folds for each of 50 candidates, totalling 150 fits\n",
      "[CV] C=0.1, gamma=10, kernel=linear ..................................\n",
      "[CV] ................... C=0.1, gamma=10, kernel=linear, total=   0.1s\n",
      "[CV] C=0.1, gamma=10, kernel=linear ..................................\n",
      "[CV] ................... C=0.1, gamma=10, kernel=linear, total=   0.1s\n",
      "[CV] C=0.1, gamma=10, kernel=linear ..................................\n",
      "[CV] ................... C=0.1, gamma=10, kernel=linear, total=   0.1s\n",
      "[CV] C=0.1, gamma=10, kernel=rbf .....................................\n",
      "[CV] ...................... C=0.1, gamma=10, kernel=rbf, total=   0.1s\n",
      "[CV] C=0.1, gamma=10, kernel=rbf .....................................\n",
      "[CV] ...................... C=0.1, gamma=10, kernel=rbf, total=   0.1s\n",
      "[CV] C=0.1, gamma=10, kernel=rbf .....................................\n",
      "[CV] ...................... C=0.1, gamma=10, kernel=rbf, total=   0.1s\n",
      "[CV] C=0.1, gamma=1, kernel=linear ...................................\n",
      "[CV] .................... C=0.1, gamma=1, kernel=linear, total=   0.1s\n",
      "[CV] C=0.1, gamma=1, kernel=linear ...................................\n",
      "[CV] .................... C=0.1, gamma=1, kernel=linear, total=   0.1s\n",
      "[CV] C=0.1, gamma=1, kernel=linear ...................................\n",
      "[CV] .................... C=0.1, gamma=1, kernel=linear, total=   0.1s\n",
      "[CV] C=0.1, gamma=1, kernel=rbf ......................................\n",
      "[CV] ....................... C=0.1, gamma=1, kernel=rbf, total=   0.1s\n",
      "[CV] C=0.1, gamma=1, kernel=rbf ......................................\n",
      "[CV] ....................... C=0.1, gamma=1, kernel=rbf, total=   0.1s\n",
      "[CV] C=0.1, gamma=1, kernel=rbf ......................................\n",
      "[CV] ....................... C=0.1, gamma=1, kernel=rbf, total=   0.1s\n",
      "[CV] C=0.1, gamma=0.1, kernel=linear .................................\n",
      "[CV] .................. C=0.1, gamma=0.1, kernel=linear, total=   0.0s\n",
      "[CV] C=0.1, gamma=0.1, kernel=linear .................................\n",
      "[CV] .................. C=0.1, gamma=0.1, kernel=linear, total=   0.1s\n",
      "[CV] C=0.1, gamma=0.1, kernel=linear .................................\n",
      "[CV] .................. C=0.1, gamma=0.1, kernel=linear, total=   0.1s\n",
      "[CV] C=0.1, gamma=0.1, kernel=rbf ....................................\n",
      "[CV] ..................... C=0.1, gamma=0.1, kernel=rbf, total=   0.1s\n",
      "[CV] C=0.1, gamma=0.1, kernel=rbf ....................................\n",
      "[CV] ..................... C=0.1, gamma=0.1, kernel=rbf, total=   0.1s\n",
      "[CV] C=0.1, gamma=0.1, kernel=rbf ....................................\n",
      "[CV] ..................... C=0.1, gamma=0.1, kernel=rbf, total=   0.1s\n",
      "[CV] C=0.1, gamma=0.001, kernel=linear ...............................\n",
      "[CV] ................ C=0.1, gamma=0.001, kernel=linear, total=   0.0s\n",
      "[CV] C=0.1, gamma=0.001, kernel=linear ...............................\n",
      "[CV] ................ C=0.1, gamma=0.001, kernel=linear, total=   0.0s\n",
      "[CV] C=0.1, gamma=0.001, kernel=linear ...............................\n",
      "[CV] ................ C=0.1, gamma=0.001, kernel=linear, total=   0.0s\n",
      "[CV] C=0.1, gamma=0.001, kernel=rbf ..................................\n",
      "[CV] ................... C=0.1, gamma=0.001, kernel=rbf, total=   0.2s\n",
      "[CV] C=0.1, gamma=0.001, kernel=rbf ..................................\n",
      "[CV] ................... C=0.1, gamma=0.001, kernel=rbf, total=   0.2s\n",
      "[CV] C=0.1, gamma=0.001, kernel=rbf ..................................\n",
      "[CV] ................... C=0.1, gamma=0.001, kernel=rbf, total=   0.2s\n",
      "[CV] C=0.1, gamma=0.0001, kernel=linear ..............................\n",
      "[CV] ............... C=0.1, gamma=0.0001, kernel=linear, total=   0.1s\n",
      "[CV] C=0.1, gamma=0.0001, kernel=linear ..............................\n",
      "[CV] ............... C=0.1, gamma=0.0001, kernel=linear, total=   0.1s\n",
      "[CV] C=0.1, gamma=0.0001, kernel=linear ..............................\n",
      "[CV] ............... C=0.1, gamma=0.0001, kernel=linear, total=   0.0s\n",
      "[CV] C=0.1, gamma=0.0001, kernel=rbf .................................\n",
      "[CV] .................. C=0.1, gamma=0.0001, kernel=rbf, total=   0.2s\n",
      "[CV] C=0.1, gamma=0.0001, kernel=rbf .................................\n",
      "[CV] .................. C=0.1, gamma=0.0001, kernel=rbf, total=   0.2s\n",
      "[CV] C=0.1, gamma=0.0001, kernel=rbf .................................\n",
      "[CV] .................. C=0.1, gamma=0.0001, kernel=rbf, total=   0.2s\n",
      "[CV] C=1, gamma=10, kernel=linear ....................................\n",
      "[CV] ..................... C=1, gamma=10, kernel=linear, total=   0.1s\n",
      "[CV] C=1, gamma=10, kernel=linear ....................................\n",
      "[CV] ..................... C=1, gamma=10, kernel=linear, total=   0.1s\n",
      "[CV] C=1, gamma=10, kernel=linear ....................................\n",
      "[CV] ..................... C=1, gamma=10, kernel=linear, total=   0.1s\n",
      "[CV] C=1, gamma=10, kernel=rbf .......................................\n",
      "[CV] ........................ C=1, gamma=10, kernel=rbf, total=   0.1s\n",
      "[CV] C=1, gamma=10, kernel=rbf .......................................\n",
      "[CV] ........................ C=1, gamma=10, kernel=rbf, total=   0.1s\n",
      "[CV] C=1, gamma=10, kernel=rbf .......................................\n",
      "[CV] ........................ C=1, gamma=10, kernel=rbf, total=   0.1s\n",
      "[CV] C=1, gamma=1, kernel=linear .....................................\n",
      "[CV] ...................... C=1, gamma=1, kernel=linear, total=   0.1s\n",
      "[CV] C=1, gamma=1, kernel=linear .....................................\n",
      "[CV] ...................... C=1, gamma=1, kernel=linear, total=   0.1s\n",
      "[CV] C=1, gamma=1, kernel=linear .....................................\n",
      "[CV] ...................... C=1, gamma=1, kernel=linear, total=   0.1s\n",
      "[CV] C=1, gamma=1, kernel=rbf ........................................\n",
      "[CV] ......................... C=1, gamma=1, kernel=rbf, total=   0.1s\n",
      "[CV] C=1, gamma=1, kernel=rbf ........................................\n",
      "[CV] ......................... C=1, gamma=1, kernel=rbf, total=   0.1s\n",
      "[CV] C=1, gamma=1, kernel=rbf ........................................\n",
      "[CV] ......................... C=1, gamma=1, kernel=rbf, total=   0.1s\n",
      "[CV] C=1, gamma=0.1, kernel=linear ...................................\n",
      "[CV] .................... C=1, gamma=0.1, kernel=linear, total=   0.0s\n",
      "[CV] C=1, gamma=0.1, kernel=linear ...................................\n",
      "[CV] .................... C=1, gamma=0.1, kernel=linear, total=   0.1s\n",
      "[CV] C=1, gamma=0.1, kernel=linear ...................................\n",
      "[CV] .................... C=1, gamma=0.1, kernel=linear, total=   0.0s\n",
      "[CV] C=1, gamma=0.1, kernel=rbf ......................................\n",
      "[CV] ....................... C=1, gamma=0.1, kernel=rbf, total=   0.1s\n",
      "[CV] C=1, gamma=0.1, kernel=rbf ......................................\n",
      "[CV] ....................... C=1, gamma=0.1, kernel=rbf, total=   0.1s\n",
      "[CV] C=1, gamma=0.1, kernel=rbf ......................................\n",
      "[CV] ....................... C=1, gamma=0.1, kernel=rbf, total=   0.1s\n",
      "[CV] C=1, gamma=0.001, kernel=linear .................................\n",
      "[CV] .................. C=1, gamma=0.001, kernel=linear, total=   0.1s\n",
      "[CV] C=1, gamma=0.001, kernel=linear .................................\n",
      "[CV] .................. C=1, gamma=0.001, kernel=linear, total=   0.1s\n",
      "[CV] C=1, gamma=0.001, kernel=linear .................................\n",
      "[CV] .................. C=1, gamma=0.001, kernel=linear, total=   0.0s\n",
      "[CV] C=1, gamma=0.001, kernel=rbf ....................................\n",
      "[CV] ..................... C=1, gamma=0.001, kernel=rbf, total=   0.2s\n",
      "[CV] C=1, gamma=0.001, kernel=rbf ....................................\n",
      "[CV] ..................... C=1, gamma=0.001, kernel=rbf, total=   0.2s\n",
      "[CV] C=1, gamma=0.001, kernel=rbf ....................................\n",
      "[CV] ..................... C=1, gamma=0.001, kernel=rbf, total=   0.2s\n",
      "[CV] C=1, gamma=0.0001, kernel=linear ................................\n",
      "[CV] ................. C=1, gamma=0.0001, kernel=linear, total=   0.0s\n",
      "[CV] C=1, gamma=0.0001, kernel=linear ................................\n",
      "[CV] ................. C=1, gamma=0.0001, kernel=linear, total=   0.1s\n",
      "[CV] C=1, gamma=0.0001, kernel=linear ................................\n",
      "[CV] ................. C=1, gamma=0.0001, kernel=linear, total=   0.0s\n",
      "[CV] C=1, gamma=0.0001, kernel=rbf ...................................\n"
     ]
    },
    {
     "name": "stdout",
     "output_type": "stream",
     "text": [
      "[CV] .................... C=1, gamma=0.0001, kernel=rbf, total=   0.2s\n",
      "[CV] C=1, gamma=0.0001, kernel=rbf ...................................\n",
      "[CV] .................... C=1, gamma=0.0001, kernel=rbf, total=   0.2s\n",
      "[CV] C=1, gamma=0.0001, kernel=rbf ...................................\n",
      "[CV] .................... C=1, gamma=0.0001, kernel=rbf, total=   0.2s\n",
      "[CV] C=10, gamma=10, kernel=linear ...................................\n",
      "[CV] .................... C=10, gamma=10, kernel=linear, total=   0.1s\n",
      "[CV] C=10, gamma=10, kernel=linear ...................................\n",
      "[CV] .................... C=10, gamma=10, kernel=linear, total=   0.1s\n",
      "[CV] C=10, gamma=10, kernel=linear ...................................\n",
      "[CV] .................... C=10, gamma=10, kernel=linear, total=   0.1s\n",
      "[CV] C=10, gamma=10, kernel=rbf ......................................\n",
      "[CV] ....................... C=10, gamma=10, kernel=rbf, total=   0.1s\n",
      "[CV] C=10, gamma=10, kernel=rbf ......................................\n",
      "[CV] ....................... C=10, gamma=10, kernel=rbf, total=   0.1s\n",
      "[CV] C=10, gamma=10, kernel=rbf ......................................\n",
      "[CV] ....................... C=10, gamma=10, kernel=rbf, total=   0.1s\n",
      "[CV] C=10, gamma=1, kernel=linear ....................................\n",
      "[CV] ..................... C=10, gamma=1, kernel=linear, total=   0.1s\n",
      "[CV] C=10, gamma=1, kernel=linear ....................................\n",
      "[CV] ..................... C=10, gamma=1, kernel=linear, total=   0.1s\n",
      "[CV] C=10, gamma=1, kernel=linear ....................................\n",
      "[CV] ..................... C=10, gamma=1, kernel=linear, total=   0.1s\n",
      "[CV] C=10, gamma=1, kernel=rbf .......................................\n",
      "[CV] ........................ C=10, gamma=1, kernel=rbf, total=   0.1s\n",
      "[CV] C=10, gamma=1, kernel=rbf .......................................\n",
      "[CV] ........................ C=10, gamma=1, kernel=rbf, total=   0.1s\n",
      "[CV] C=10, gamma=1, kernel=rbf .......................................\n",
      "[CV] ........................ C=10, gamma=1, kernel=rbf, total=   0.1s\n",
      "[CV] C=10, gamma=0.1, kernel=linear ..................................\n",
      "[CV] ................... C=10, gamma=0.1, kernel=linear, total=   0.1s\n",
      "[CV] C=10, gamma=0.1, kernel=linear ..................................\n",
      "[CV] ................... C=10, gamma=0.1, kernel=linear, total=   0.1s\n",
      "[CV] C=10, gamma=0.1, kernel=linear ..................................\n",
      "[CV] ................... C=10, gamma=0.1, kernel=linear, total=   0.1s\n",
      "[CV] C=10, gamma=0.1, kernel=rbf .....................................\n",
      "[CV] ...................... C=10, gamma=0.1, kernel=rbf, total=   0.1s\n",
      "[CV] C=10, gamma=0.1, kernel=rbf .....................................\n",
      "[CV] ...................... C=10, gamma=0.1, kernel=rbf, total=   0.1s\n",
      "[CV] C=10, gamma=0.1, kernel=rbf .....................................\n",
      "[CV] ...................... C=10, gamma=0.1, kernel=rbf, total=   0.1s\n",
      "[CV] C=10, gamma=0.001, kernel=linear ................................\n",
      "[CV] ................. C=10, gamma=0.001, kernel=linear, total=   0.1s\n",
      "[CV] C=10, gamma=0.001, kernel=linear ................................\n",
      "[CV] ................. C=10, gamma=0.001, kernel=linear, total=   0.1s\n",
      "[CV] C=10, gamma=0.001, kernel=linear ................................\n",
      "[CV] ................. C=10, gamma=0.001, kernel=linear, total=   0.1s\n",
      "[CV] C=10, gamma=0.001, kernel=rbf ...................................\n",
      "[CV] .................... C=10, gamma=0.001, kernel=rbf, total=   0.1s\n",
      "[CV] C=10, gamma=0.001, kernel=rbf ...................................\n",
      "[CV] .................... C=10, gamma=0.001, kernel=rbf, total=   0.1s\n",
      "[CV] C=10, gamma=0.001, kernel=rbf ...................................\n",
      "[CV] .................... C=10, gamma=0.001, kernel=rbf, total=   0.1s\n",
      "[CV] C=10, gamma=0.0001, kernel=linear ...............................\n",
      "[CV] ................ C=10, gamma=0.0001, kernel=linear, total=   0.1s\n",
      "[CV] C=10, gamma=0.0001, kernel=linear ...............................\n",
      "[CV] ................ C=10, gamma=0.0001, kernel=linear, total=   0.1s\n",
      "[CV] C=10, gamma=0.0001, kernel=linear ...............................\n",
      "[CV] ................ C=10, gamma=0.0001, kernel=linear, total=   0.1s\n",
      "[CV] C=10, gamma=0.0001, kernel=rbf ..................................\n",
      "[CV] ................... C=10, gamma=0.0001, kernel=rbf, total=   0.2s\n",
      "[CV] C=10, gamma=0.0001, kernel=rbf ..................................\n",
      "[CV] ................... C=10, gamma=0.0001, kernel=rbf, total=   0.2s\n",
      "[CV] C=10, gamma=0.0001, kernel=rbf ..................................\n",
      "[CV] ................... C=10, gamma=0.0001, kernel=rbf, total=   0.2s\n",
      "[CV] C=100, gamma=10, kernel=linear ..................................\n",
      "[CV] ................... C=100, gamma=10, kernel=linear, total=   0.3s\n",
      "[CV] C=100, gamma=10, kernel=linear ..................................\n",
      "[CV] ................... C=100, gamma=10, kernel=linear, total=   0.3s\n",
      "[CV] C=100, gamma=10, kernel=linear ..................................\n",
      "[CV] ................... C=100, gamma=10, kernel=linear, total=   0.3s\n",
      "[CV] C=100, gamma=10, kernel=rbf .....................................\n",
      "[CV] ...................... C=100, gamma=10, kernel=rbf, total=   0.1s\n",
      "[CV] C=100, gamma=10, kernel=rbf .....................................\n",
      "[CV] ...................... C=100, gamma=10, kernel=rbf, total=   0.1s\n",
      "[CV] C=100, gamma=10, kernel=rbf .....................................\n",
      "[CV] ...................... C=100, gamma=10, kernel=rbf, total=   0.1s\n",
      "[CV] C=100, gamma=1, kernel=linear ...................................\n",
      "[CV] .................... C=100, gamma=1, kernel=linear, total=   0.3s\n",
      "[CV] C=100, gamma=1, kernel=linear ...................................\n",
      "[CV] .................... C=100, gamma=1, kernel=linear, total=   0.3s\n",
      "[CV] C=100, gamma=1, kernel=linear ...................................\n",
      "[CV] .................... C=100, gamma=1, kernel=linear, total=   0.3s\n",
      "[CV] C=100, gamma=1, kernel=rbf ......................................\n",
      "[CV] ....................... C=100, gamma=1, kernel=rbf, total=   0.2s\n",
      "[CV] C=100, gamma=1, kernel=rbf ......................................\n",
      "[CV] ....................... C=100, gamma=1, kernel=rbf, total=   0.2s\n",
      "[CV] C=100, gamma=1, kernel=rbf ......................................\n",
      "[CV] ....................... C=100, gamma=1, kernel=rbf, total=   0.2s\n",
      "[CV] C=100, gamma=0.1, kernel=linear .................................\n",
      "[CV] .................. C=100, gamma=0.1, kernel=linear, total=   0.3s\n",
      "[CV] C=100, gamma=0.1, kernel=linear .................................\n",
      "[CV] .................. C=100, gamma=0.1, kernel=linear, total=   0.3s\n",
      "[CV] C=100, gamma=0.1, kernel=linear .................................\n",
      "[CV] .................. C=100, gamma=0.1, kernel=linear, total=   0.3s\n",
      "[CV] C=100, gamma=0.1, kernel=rbf ....................................\n",
      "[CV] ..................... C=100, gamma=0.1, kernel=rbf, total=   0.1s\n",
      "[CV] C=100, gamma=0.1, kernel=rbf ....................................\n",
      "[CV] ..................... C=100, gamma=0.1, kernel=rbf, total=   0.1s\n",
      "[CV] C=100, gamma=0.1, kernel=rbf ....................................\n",
      "[CV] ..................... C=100, gamma=0.1, kernel=rbf, total=   0.1s\n",
      "[CV] C=100, gamma=0.001, kernel=linear ...............................\n",
      "[CV] ................ C=100, gamma=0.001, kernel=linear, total=   0.3s\n",
      "[CV] C=100, gamma=0.001, kernel=linear ...............................\n",
      "[CV] ................ C=100, gamma=0.001, kernel=linear, total=   0.3s\n",
      "[CV] C=100, gamma=0.001, kernel=linear ...............................\n",
      "[CV] ................ C=100, gamma=0.001, kernel=linear, total=   0.3s\n",
      "[CV] C=100, gamma=0.001, kernel=rbf ..................................\n",
      "[CV] ................... C=100, gamma=0.001, kernel=rbf, total=   0.1s\n",
      "[CV] C=100, gamma=0.001, kernel=rbf ..................................\n",
      "[CV] ................... C=100, gamma=0.001, kernel=rbf, total=   0.1s\n",
      "[CV] C=100, gamma=0.001, kernel=rbf ..................................\n",
      "[CV] ................... C=100, gamma=0.001, kernel=rbf, total=   0.1s\n",
      "[CV] C=100, gamma=0.0001, kernel=linear ..............................\n",
      "[CV] ............... C=100, gamma=0.0001, kernel=linear, total=   0.3s\n",
      "[CV] C=100, gamma=0.0001, kernel=linear ..............................\n"
     ]
    },
    {
     "name": "stdout",
     "output_type": "stream",
     "text": [
      "[CV] ............... C=100, gamma=0.0001, kernel=linear, total=   0.3s\n",
      "[CV] C=100, gamma=0.0001, kernel=linear ..............................\n",
      "[CV] ............... C=100, gamma=0.0001, kernel=linear, total=   0.3s\n",
      "[CV] C=100, gamma=0.0001, kernel=rbf .................................\n",
      "[CV] .................. C=100, gamma=0.0001, kernel=rbf, total=   0.1s\n",
      "[CV] C=100, gamma=0.0001, kernel=rbf .................................\n",
      "[CV] .................. C=100, gamma=0.0001, kernel=rbf, total=   0.1s\n",
      "[CV] C=100, gamma=0.0001, kernel=rbf .................................\n",
      "[CV] .................. C=100, gamma=0.0001, kernel=rbf, total=   0.1s\n",
      "[CV] C=1000, gamma=10, kernel=linear .................................\n",
      "[CV] .................. C=1000, gamma=10, kernel=linear, total=   1.6s\n",
      "[CV] C=1000, gamma=10, kernel=linear .................................\n",
      "[CV] .................. C=1000, gamma=10, kernel=linear, total=   1.5s\n",
      "[CV] C=1000, gamma=10, kernel=linear .................................\n",
      "[CV] .................. C=1000, gamma=10, kernel=linear, total=   1.4s\n",
      "[CV] C=1000, gamma=10, kernel=rbf ....................................\n",
      "[CV] ..................... C=1000, gamma=10, kernel=rbf, total=   0.1s\n",
      "[CV] C=1000, gamma=10, kernel=rbf ....................................\n",
      "[CV] ..................... C=1000, gamma=10, kernel=rbf, total=   0.1s\n",
      "[CV] C=1000, gamma=10, kernel=rbf ....................................\n",
      "[CV] ..................... C=1000, gamma=10, kernel=rbf, total=   0.1s\n",
      "[CV] C=1000, gamma=1, kernel=linear ..................................\n",
      "[CV] ................... C=1000, gamma=1, kernel=linear, total=   1.6s\n",
      "[CV] C=1000, gamma=1, kernel=linear ..................................\n",
      "[CV] ................... C=1000, gamma=1, kernel=linear, total=   1.4s\n",
      "[CV] C=1000, gamma=1, kernel=linear ..................................\n",
      "[CV] ................... C=1000, gamma=1, kernel=linear, total=   1.4s\n",
      "[CV] C=1000, gamma=1, kernel=rbf .....................................\n",
      "[CV] ...................... C=1000, gamma=1, kernel=rbf, total=   0.7s\n",
      "[CV] C=1000, gamma=1, kernel=rbf .....................................\n",
      "[CV] ...................... C=1000, gamma=1, kernel=rbf, total=   0.8s\n",
      "[CV] C=1000, gamma=1, kernel=rbf .....................................\n",
      "[CV] ...................... C=1000, gamma=1, kernel=rbf, total=   0.7s\n",
      "[CV] C=1000, gamma=0.1, kernel=linear ................................\n",
      "[CV] ................. C=1000, gamma=0.1, kernel=linear, total=   1.5s\n",
      "[CV] C=1000, gamma=0.1, kernel=linear ................................\n",
      "[CV] ................. C=1000, gamma=0.1, kernel=linear, total=   1.4s\n",
      "[CV] C=1000, gamma=0.1, kernel=linear ................................\n",
      "[CV] ................. C=1000, gamma=0.1, kernel=linear, total=   1.4s\n",
      "[CV] C=1000, gamma=0.1, kernel=rbf ...................................\n",
      "[CV] .................... C=1000, gamma=0.1, kernel=rbf, total=   0.3s\n",
      "[CV] C=1000, gamma=0.1, kernel=rbf ...................................\n",
      "[CV] .................... C=1000, gamma=0.1, kernel=rbf, total=   0.3s\n",
      "[CV] C=1000, gamma=0.1, kernel=rbf ...................................\n",
      "[CV] .................... C=1000, gamma=0.1, kernel=rbf, total=   0.3s\n",
      "[CV] C=1000, gamma=0.001, kernel=linear ..............................\n",
      "[CV] ............... C=1000, gamma=0.001, kernel=linear, total=   1.5s\n",
      "[CV] C=1000, gamma=0.001, kernel=linear ..............................\n",
      "[CV] ............... C=1000, gamma=0.001, kernel=linear, total=   1.4s\n",
      "[CV] C=1000, gamma=0.001, kernel=linear ..............................\n",
      "[CV] ............... C=1000, gamma=0.001, kernel=linear, total=   1.4s\n",
      "[CV] C=1000, gamma=0.001, kernel=rbf .................................\n",
      "[CV] .................. C=1000, gamma=0.001, kernel=rbf, total=   0.1s\n",
      "[CV] C=1000, gamma=0.001, kernel=rbf .................................\n",
      "[CV] .................. C=1000, gamma=0.001, kernel=rbf, total=   0.1s\n",
      "[CV] C=1000, gamma=0.001, kernel=rbf .................................\n",
      "[CV] .................. C=1000, gamma=0.001, kernel=rbf, total=   0.1s\n",
      "[CV] C=1000, gamma=0.0001, kernel=linear .............................\n",
      "[CV] .............. C=1000, gamma=0.0001, kernel=linear, total=   1.5s\n",
      "[CV] C=1000, gamma=0.0001, kernel=linear .............................\n",
      "[CV] .............. C=1000, gamma=0.0001, kernel=linear, total=   1.4s\n",
      "[CV] C=1000, gamma=0.0001, kernel=linear .............................\n",
      "[CV] .............. C=1000, gamma=0.0001, kernel=linear, total=   1.4s\n",
      "[CV] C=1000, gamma=0.0001, kernel=rbf ................................\n",
      "[CV] ................. C=1000, gamma=0.0001, kernel=rbf, total=   0.1s\n",
      "[CV] C=1000, gamma=0.0001, kernel=rbf ................................\n",
      "[CV] ................. C=1000, gamma=0.0001, kernel=rbf, total=   0.1s\n",
      "[CV] C=1000, gamma=0.0001, kernel=rbf ................................\n",
      "[CV] ................. C=1000, gamma=0.0001, kernel=rbf, total=   0.1s\n"
     ]
    },
    {
     "name": "stderr",
     "output_type": "stream",
     "text": [
      "[Parallel(n_jobs=1)]: Done 150 out of 150 | elapsed:   41.3s finished\n"
     ]
    },
    {
     "data": {
      "text/plain": [
       "GridSearchCV(cv='warn', error_score='raise-deprecating',\n",
       "             estimator=SVC(C=1.0, cache_size=200, class_weight=None, coef0=0.0,\n",
       "                           decision_function_shape='ovr', degree=3,\n",
       "                           gamma='auto_deprecated', kernel='rbf', max_iter=-1,\n",
       "                           probability=False, random_state=None, shrinking=True,\n",
       "                           tol=0.001, verbose=False),\n",
       "             iid='warn', n_jobs=None,\n",
       "             param_grid={'C': [0.1, 1, 10, 100, 1000],\n",
       "                         'gamma': [10, 1, 0.1, 0.001, 0.0001],\n",
       "                         'kernel': ['linear', 'rbf']},\n",
       "             pre_dispatch='2*n_jobs', refit=True, return_train_score=False,\n",
       "             scoring=None, verbose=2)"
      ]
     },
     "execution_count": 85,
     "metadata": {},
     "output_type": "execute_result"
    }
   ],
   "source": [
    "grid.fit(X_train,y_train)"
   ]
  },
  {
   "cell_type": "code",
   "execution_count": 86,
   "metadata": {},
   "outputs": [
    {
     "data": {
      "text/plain": [
       "{'C': 100, 'gamma': 10, 'kernel': 'rbf'}"
      ]
     },
     "execution_count": 86,
     "metadata": {},
     "output_type": "execute_result"
    }
   ],
   "source": [
    "grid.best_params_"
   ]
  },
  {
   "cell_type": "code",
   "execution_count": 88,
   "metadata": {},
   "outputs": [
    {
     "data": {
      "text/plain": [
       "SVC(C=100, cache_size=200, class_weight=None, coef0=0.0,\n",
       "    decision_function_shape='ovr', degree=3, gamma=10, kernel='rbf',\n",
       "    max_iter=-1, probability=False, random_state=None, shrinking=True,\n",
       "    tol=0.001, verbose=False)"
      ]
     },
     "execution_count": 88,
     "metadata": {},
     "output_type": "execute_result"
    }
   ],
   "source": [
    "SVC(C=100,gamma = 10).fit(X_train,y_train)"
   ]
  },
  {
   "cell_type": "code",
   "execution_count": 89,
   "metadata": {},
   "outputs": [],
   "source": [
    "tuned_svc_pred_test = grid.predict(X_test)"
   ]
  },
  {
   "cell_type": "code",
   "execution_count": 90,
   "metadata": {},
   "outputs": [],
   "source": [
    "tuned_svc_pred_train = grid.predict(X_train)"
   ]
  },
  {
   "cell_type": "code",
   "execution_count": 91,
   "metadata": {},
   "outputs": [
    {
     "name": "stdout",
     "output_type": "stream",
     "text": [
      "              precision    recall  f1-score   support\n",
      "\n",
      "           0       0.99      1.00      1.00      1631\n",
      "           1       1.00      0.99      1.00      1680\n",
      "\n",
      "    accuracy                           1.00      3311\n",
      "   macro avg       1.00      1.00      1.00      3311\n",
      "weighted avg       1.00      1.00      1.00      3311\n",
      "\n"
     ]
    }
   ],
   "source": [
    "print(classification_report(tuned_svc_pred_train,y_train))"
   ]
  },
  {
   "cell_type": "code",
   "execution_count": 92,
   "metadata": {},
   "outputs": [
    {
     "name": "stdout",
     "output_type": "stream",
     "text": [
      "              precision    recall  f1-score   support\n",
      "\n",
      "           0       0.95      1.00      0.98       686\n",
      "           1       1.00      0.95      0.98       733\n",
      "\n",
      "    accuracy                           0.98      1419\n",
      "   macro avg       0.98      0.98      0.98      1419\n",
      "weighted avg       0.98      0.98      0.98      1419\n",
      "\n"
     ]
    }
   ],
   "source": [
    "print(classification_report(tuned_svc_pred_test,y_test))"
   ]
  },
  {
   "cell_type": "code",
   "execution_count": 93,
   "metadata": {},
   "outputs": [
    {
     "name": "stdout",
     "output_type": "stream",
     "text": [
      "[[1631    0]\n",
      " [  14 1666]]\n"
     ]
    }
   ],
   "source": [
    "print(confusion_matrix(tuned_svc_pred_train,y_train))"
   ]
  },
  {
   "cell_type": "code",
   "execution_count": 94,
   "metadata": {},
   "outputs": [
    {
     "name": "stdout",
     "output_type": "stream",
     "text": [
      "[[686   0]\n",
      " [ 34 699]]\n"
     ]
    }
   ],
   "source": [
    "print(confusion_matrix(tuned_svc_pred_test,y_test))"
   ]
  },
  {
   "cell_type": "code",
   "execution_count": null,
   "metadata": {},
   "outputs": [],
   "source": []
  },
  {
   "cell_type": "code",
   "execution_count": null,
   "metadata": {},
   "outputs": [],
   "source": []
  },
  {
   "cell_type": "code",
   "execution_count": null,
   "metadata": {},
   "outputs": [],
   "source": []
  }
 ],
 "metadata": {
  "kernelspec": {
   "display_name": "Python 3",
   "language": "python",
   "name": "python3"
  },
  "language_info": {
   "codemirror_mode": {
    "name": "ipython",
    "version": 3
   },
   "file_extension": ".py",
   "mimetype": "text/x-python",
   "name": "python",
   "nbconvert_exporter": "python",
   "pygments_lexer": "ipython3",
   "version": "3.7.3"
  }
 },
 "nbformat": 4,
 "nbformat_minor": 2
}
