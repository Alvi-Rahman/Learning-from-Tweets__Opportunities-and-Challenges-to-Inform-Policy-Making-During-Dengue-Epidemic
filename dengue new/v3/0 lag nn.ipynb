{
 "cells": [
  {
   "cell_type": "code",
   "execution_count": 1,
   "metadata": {},
   "outputs": [],
   "source": [
    "import numpy as np\n",
    "import pandas as pd\n",
    "\n",
    "data = pd.read_excel('data_v7.xlsx')\n",
    "\n",
    "\n",
    "data.drop(['Unnamed: 0','locations_month','label','date'],axis=1,inplace=True)\n",
    "\n",
    "data.drop(['pressureInches','visibility'],axis=1,inplace=True)\n",
    "\n",
    "\n",
    "loc_lst = list(data['locations'].unique())\n",
    "\n",
    "i = 0\n",
    "for haha in loc_lst:\n",
    "    \n",
    "    data.loc[data.locations == haha, 'locations'] = i\n",
    "    i+=1\n",
    "\n",
    "\n",
    "from sklearn.decomposition import PCA\n",
    "from sklearn.preprocessing import MinMaxScaler\n",
    "\n",
    "import matplotlib.pyplot as plt\n",
    "\n",
    "scaler = MinMaxScaler(feature_range=[0, 1])\n",
    "data_rescaled = scaler.fit_transform(data)\n",
    "\n",
    "\n",
    "# 8 features\n",
    "\n",
    "pca = PCA(n_components=8)\n",
    "data_pca = pca.fit_transform(data_rescaled)"
   ]
  },
  {
   "cell_type": "code",
   "execution_count": 3,
   "metadata": {},
   "outputs": [],
   "source": [
    "labels = pd.read_excel('data_v7.xlsx',usecols=['label'])\n",
    "\n",
    "data = pd.DataFrame(data_pca,columns=['c1','c2','c3','c4','c5','c6','c7','c8'])"
   ]
  },
  {
   "cell_type": "code",
   "execution_count": 4,
   "metadata": {},
   "outputs": [
    {
     "data": {
      "text/html": [
       "<div>\n",
       "<style scoped>\n",
       "    .dataframe tbody tr th:only-of-type {\n",
       "        vertical-align: middle;\n",
       "    }\n",
       "\n",
       "    .dataframe tbody tr th {\n",
       "        vertical-align: top;\n",
       "    }\n",
       "\n",
       "    .dataframe thead th {\n",
       "        text-align: right;\n",
       "    }\n",
       "</style>\n",
       "<table border=\"1\" class=\"dataframe\">\n",
       "  <thead>\n",
       "    <tr style=\"text-align: right;\">\n",
       "      <th></th>\n",
       "      <th>c1</th>\n",
       "      <th>c2</th>\n",
       "      <th>c3</th>\n",
       "      <th>c4</th>\n",
       "      <th>c5</th>\n",
       "      <th>c6</th>\n",
       "      <th>c7</th>\n",
       "      <th>c8</th>\n",
       "    </tr>\n",
       "  </thead>\n",
       "  <tbody>\n",
       "    <tr>\n",
       "      <th>0</th>\n",
       "      <td>0.966233</td>\n",
       "      <td>0.531514</td>\n",
       "      <td>-0.053925</td>\n",
       "      <td>0.033829</td>\n",
       "      <td>0.016468</td>\n",
       "      <td>-0.033678</td>\n",
       "      <td>-0.006474</td>\n",
       "      <td>-0.073370</td>\n",
       "    </tr>\n",
       "    <tr>\n",
       "      <th>1</th>\n",
       "      <td>0.742890</td>\n",
       "      <td>0.522499</td>\n",
       "      <td>-0.045905</td>\n",
       "      <td>-0.057583</td>\n",
       "      <td>0.073825</td>\n",
       "      <td>-0.044661</td>\n",
       "      <td>-0.005593</td>\n",
       "      <td>0.003154</td>\n",
       "    </tr>\n",
       "    <tr>\n",
       "      <th>2</th>\n",
       "      <td>0.182807</td>\n",
       "      <td>0.484951</td>\n",
       "      <td>0.331263</td>\n",
       "      <td>0.115176</td>\n",
       "      <td>0.118272</td>\n",
       "      <td>-0.002310</td>\n",
       "      <td>0.041395</td>\n",
       "      <td>0.004899</td>\n",
       "    </tr>\n",
       "    <tr>\n",
       "      <th>3</th>\n",
       "      <td>-0.351475</td>\n",
       "      <td>0.496609</td>\n",
       "      <td>0.182283</td>\n",
       "      <td>0.062822</td>\n",
       "      <td>-0.059803</td>\n",
       "      <td>-0.066623</td>\n",
       "      <td>0.111783</td>\n",
       "      <td>0.041275</td>\n",
       "    </tr>\n",
       "    <tr>\n",
       "      <th>4</th>\n",
       "      <td>-0.709062</td>\n",
       "      <td>0.487533</td>\n",
       "      <td>0.298583</td>\n",
       "      <td>-0.042041</td>\n",
       "      <td>-0.022723</td>\n",
       "      <td>-0.001474</td>\n",
       "      <td>0.064748</td>\n",
       "      <td>-0.070292</td>\n",
       "    </tr>\n",
       "  </tbody>\n",
       "</table>\n",
       "</div>"
      ],
      "text/plain": [
       "         c1        c2        c3        c4        c5        c6        c7  \\\n",
       "0  0.966233  0.531514 -0.053925  0.033829  0.016468 -0.033678 -0.006474   \n",
       "1  0.742890  0.522499 -0.045905 -0.057583  0.073825 -0.044661 -0.005593   \n",
       "2  0.182807  0.484951  0.331263  0.115176  0.118272 -0.002310  0.041395   \n",
       "3 -0.351475  0.496609  0.182283  0.062822 -0.059803 -0.066623  0.111783   \n",
       "4 -0.709062  0.487533  0.298583 -0.042041 -0.022723 -0.001474  0.064748   \n",
       "\n",
       "         c8  \n",
       "0 -0.073370  \n",
       "1  0.003154  \n",
       "2  0.004899  \n",
       "3  0.041275  \n",
       "4 -0.070292  "
      ]
     },
     "execution_count": 4,
     "metadata": {},
     "output_type": "execute_result"
    }
   ],
   "source": [
    "data.head()"
   ]
  },
  {
   "cell_type": "code",
   "execution_count": null,
   "metadata": {},
   "outputs": [],
   "source": []
  },
  {
   "cell_type": "code",
   "execution_count": 5,
   "metadata": {},
   "outputs": [],
   "source": []
  },
  {
   "cell_type": "code",
   "execution_count": null,
   "metadata": {},
   "outputs": [],
   "source": []
  },
  {
   "cell_type": "code",
   "execution_count": 5,
   "metadata": {},
   "outputs": [],
   "source": [
    "X = data.copy()\n",
    "y = labels.copy()"
   ]
  },
  {
   "cell_type": "code",
   "execution_count": 6,
   "metadata": {},
   "outputs": [],
   "source": [
    "from sklearn.model_selection import train_test_split"
   ]
  },
  {
   "cell_type": "code",
   "execution_count": 7,
   "metadata": {},
   "outputs": [],
   "source": [
    "X_train, X_test, y_train, y_test = train_test_split(X, y, test_size=0.33, random_state=101)"
   ]
  },
  {
   "cell_type": "code",
   "execution_count": 8,
   "metadata": {},
   "outputs": [],
   "source": [
    "import tensorflow as tf"
   ]
  },
  {
   "cell_type": "code",
   "execution_count": 9,
   "metadata": {},
   "outputs": [],
   "source": [
    "dataset = tf.data.Dataset.from_tensor_slices((X_train.values, y_train.values))"
   ]
  },
  {
   "cell_type": "code",
   "execution_count": 10,
   "metadata": {},
   "outputs": [],
   "source": [
    "train_dataset = dataset.shuffle(len(X_train)).batch(1)"
   ]
  },
  {
   "cell_type": "code",
   "execution_count": null,
   "metadata": {},
   "outputs": [],
   "source": []
  },
  {
   "cell_type": "code",
   "execution_count": 11,
   "metadata": {},
   "outputs": [],
   "source": [
    "def get_compiled_model():\n",
    "    model = tf.keras.Sequential([\n",
    "    tf.keras.layers.Dense(10, activation='relu'),\n",
    "    tf.keras.layers.Dense(10, activation='relu'),\n",
    "    tf.keras.layers.Dense(1, activation='sigmoid')\n",
    "  ])\n",
    "\n",
    "    model.compile(optimizer='adam',\n",
    "                loss='binary_crossentropy',\n",
    "                metrics=['accuracy'])\n",
    "    return model"
   ]
  },
  {
   "cell_type": "code",
   "execution_count": 12,
   "metadata": {},
   "outputs": [
    {
     "name": "stdout",
     "output_type": "stream",
     "text": [
      "WARNING:tensorflow:Layer sequential is casting an input tensor from dtype float64 to the layer's dtype of float32, which is new behavior in TensorFlow 2.  The layer has dtype float32 because it's dtype defaults to floatx.\n",
      "\n",
      "If you intended to run this layer in float32, you can safely ignore this warning. If in doubt, this warning is likely only an issue if you are porting a TensorFlow 1.X model to TensorFlow 2.\n",
      "\n",
      "To change all layers to have dtype float64 by default, call `tf.keras.backend.set_floatx('float64')`. To change just this layer, pass dtype='float64' to the layer constructor. If you are the author of this layer, you can disable autocasting by passing autocast=False to the base Layer constructor.\n",
      "\n",
      "Epoch 1/10\n",
      "1716/1716 [==============================] - 5s 3ms/step - loss: 0.3747 - accuracy: 0.8899\n",
      "Epoch 2/10\n",
      "1716/1716 [==============================] - 1s 867us/step - loss: 0.1795 - accuracy: 0.9441\n",
      "Epoch 3/10\n",
      "1716/1716 [==============================] - 2s 882us/step - loss: 0.1686 - accuracy: 0.9522\n",
      "Epoch 4/10\n",
      "1716/1716 [==============================] - 2s 891us/step - loss: 0.1660 - accuracy: 0.9534\n",
      "Epoch 5/10\n",
      "1716/1716 [==============================] - 2s 881us/step - loss: 0.1649 - accuracy: 0.9516\n",
      "Epoch 6/10\n",
      "1716/1716 [==============================] - 2s 922us/step - loss: 0.1629 - accuracy: 0.9551\n",
      "Epoch 7/10\n",
      "1716/1716 [==============================] - 2s 877us/step - loss: 0.1617 - accuracy: 0.9516\n",
      "Epoch 8/10\n",
      "1716/1716 [==============================] - 2s 878us/step - loss: 0.1615 - accuracy: 0.9534\n",
      "Epoch 9/10\n",
      "1716/1716 [==============================] - 2s 897us/step - loss: 0.1609 - accuracy: 0.9534\n",
      "Epoch 10/10\n",
      "1716/1716 [==============================] - 2s 877us/step - loss: 0.1613 - accuracy: 0.9528\n"
     ]
    },
    {
     "data": {
      "text/plain": [
       "<tensorflow.python.keras.callbacks.History at 0x1848608e748>"
      ]
     },
     "execution_count": 12,
     "metadata": {},
     "output_type": "execute_result"
    }
   ],
   "source": [
    "model = get_compiled_model()\n",
    "model.fit(train_dataset, epochs=10)"
   ]
  },
  {
   "cell_type": "code",
   "execution_count": 55,
   "metadata": {},
   "outputs": [
    {
     "name": "stdout",
     "output_type": "stream",
     "text": [
      "WARNING:tensorflow:Falling back from v2 loop because of error: Failed to find data adapter that can handle input: <class 'pandas.core.frame.DataFrame'>, <class 'NoneType'>\n"
     ]
    }
   ],
   "source": [
    "nn_pred_test = model.predict(X_test)"
   ]
  },
  {
   "cell_type": "code",
   "execution_count": 56,
   "metadata": {},
   "outputs": [
    {
     "name": "stdout",
     "output_type": "stream",
     "text": [
      "WARNING:tensorflow:Falling back from v2 loop because of error: Failed to find data adapter that can handle input: <class 'pandas.core.frame.DataFrame'>, <class 'NoneType'>\n"
     ]
    }
   ],
   "source": [
    "nn_pred_train = model.predict(X_train)"
   ]
  },
  {
   "cell_type": "code",
   "execution_count": 57,
   "metadata": {},
   "outputs": [],
   "source": [
    "y_test.index = [i for i in range(len(y_test))]"
   ]
  },
  {
   "cell_type": "code",
   "execution_count": 58,
   "metadata": {},
   "outputs": [],
   "source": [
    "y_train.index = [i for i in range(len(y_train))]"
   ]
  },
  {
   "cell_type": "code",
   "execution_count": 59,
   "metadata": {},
   "outputs": [
    {
     "data": {
      "text/plain": [
       "0.051158346"
      ]
     },
     "execution_count": 59,
     "metadata": {},
     "output_type": "execute_result"
    }
   ],
   "source": [
    "np.mean(nn_pred_test[list(y_test[y_test['label'] ==0].index)])"
   ]
  },
  {
   "cell_type": "code",
   "execution_count": 62,
   "metadata": {},
   "outputs": [
    {
     "data": {
      "text/plain": [
       "0.5054629"
      ]
     },
     "execution_count": 62,
     "metadata": {},
     "output_type": "execute_result"
    }
   ],
   "source": [
    "np.mean(nn_pred_train[list(y_train[y_train['label'] ==1].index)])"
   ]
  },
  {
   "cell_type": "code",
   "execution_count": null,
   "metadata": {},
   "outputs": [],
   "source": [
    "y_test = list(y_test['label'])"
   ]
  },
  {
   "cell_type": "code",
   "execution_count": null,
   "metadata": {},
   "outputs": [],
   "source": []
  },
  {
   "cell_type": "code",
   "execution_count": 81,
   "metadata": {},
   "outputs": [],
   "source": [
    "test_acc = [1 if nn_pred_test[i] > 0.3 else 0 for i in range(len(nn_pred_test))]"
   ]
  },
  {
   "cell_type": "code",
   "execution_count": 84,
   "metadata": {},
   "outputs": [],
   "source": [
    "train_acc = [1 if nn_pred_train[i] > 0.3 else 0 for i in range(len(nn_pred_train))]"
   ]
  },
  {
   "cell_type": "code",
   "execution_count": 77,
   "metadata": {},
   "outputs": [],
   "source": [
    "from sklearn.metrics import classification_report,confusion_matrix"
   ]
  },
  {
   "cell_type": "code",
   "execution_count": 83,
   "metadata": {},
   "outputs": [
    {
     "name": "stdout",
     "output_type": "stream",
     "text": [
      "              precision    recall  f1-score   support\n",
      "\n",
      "           0       0.98      0.96      0.97       791\n",
      "           1       0.55      0.67      0.61        55\n",
      "\n",
      "    accuracy                           0.94       846\n",
      "   macro avg       0.76      0.82      0.79       846\n",
      "weighted avg       0.95      0.94      0.95       846\n",
      "\n"
     ]
    }
   ],
   "source": [
    "print(classification_report(test_acc,y_test))"
   ]
  },
  {
   "cell_type": "code",
   "execution_count": 85,
   "metadata": {},
   "outputs": [
    {
     "name": "stdout",
     "output_type": "stream",
     "text": [
      "              precision    recall  f1-score   support\n",
      "\n",
      "           0       0.98      0.97      0.97      1608\n",
      "           1       0.59      0.71      0.65       108\n",
      "\n",
      "    accuracy                           0.95      1716\n",
      "   macro avg       0.79      0.84      0.81      1716\n",
      "weighted avg       0.96      0.95      0.95      1716\n",
      "\n"
     ]
    }
   ],
   "source": [
    "print(classification_report(train_acc,y_train))"
   ]
  },
  {
   "cell_type": "code",
   "execution_count": 86,
   "metadata": {},
   "outputs": [
    {
     "name": "stdout",
     "output_type": "stream",
     "text": [
      "[[1555   53]\n",
      " [  31   77]]\n"
     ]
    }
   ],
   "source": [
    "print(confusion_matrix(train_acc,y_train))"
   ]
  },
  {
   "cell_type": "code",
   "execution_count": 88,
   "metadata": {},
   "outputs": [
    {
     "name": "stdout",
     "output_type": "stream",
     "text": [
      "[[761  30]\n",
      " [ 18  37]]\n"
     ]
    }
   ],
   "source": [
    "print(confusion_matrix(test_acc,y_test))"
   ]
  },
  {
   "cell_type": "code",
   "execution_count": null,
   "metadata": {},
   "outputs": [],
   "source": []
  }
 ],
 "metadata": {
  "kernelspec": {
   "display_name": "Python 3",
   "language": "python",
   "name": "python3"
  },
  "language_info": {
   "codemirror_mode": {
    "name": "ipython",
    "version": 3
   },
   "file_extension": ".py",
   "mimetype": "text/x-python",
   "name": "python",
   "nbconvert_exporter": "python",
   "pygments_lexer": "ipython3",
   "version": "3.7.3"
  }
 },
 "nbformat": 4,
 "nbformat_minor": 2
}
